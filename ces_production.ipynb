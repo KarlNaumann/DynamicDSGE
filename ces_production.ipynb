{
 "cells": [
  {
   "cell_type": "markdown",
   "metadata": {},
   "source": [
    "## DSGE w. Feedback - Numerical Simulations"
   ]
  },
  {
   "cell_type": "markdown",
   "metadata": {},
   "source": [
    "### Imports"
   ]
  },
  {
   "cell_type": "code",
   "execution_count": 1,
   "metadata": {
    "scrolled": true
   },
   "outputs": [
    {
     "name": "stdout",
     "output_type": "stream",
     "text": [
      "Modules to reload:\n",
      "all-except-skipped\n",
      "\n",
      "Modules to skip:\n",
      "\n"
     ]
    }
   ],
   "source": [
    "%load_ext autoreload\n",
    "%autoreload 2\n",
    "%aimport\n",
    "%matplotlib notebook"
   ]
  },
  {
   "cell_type": "code",
   "execution_count": 3,
   "metadata": {},
   "outputs": [],
   "source": [
    "import numpy as np\n",
    "import pandas as pd\n",
    "import matplotlib.pyplot as plt\n",
    "import matplotlib as mpl\n",
    "from scipy.optimize import minimize"
   ]
  },
  {
   "cell_type": "code",
   "execution_count": 4,
   "metadata": {},
   "outputs": [],
   "source": [
    "import model"
   ]
  },
  {
   "cell_type": "markdown",
   "metadata": {},
   "source": [
    "## Simulation mechanics"
   ]
  },
  {
   "cell_type": "code",
   "execution_count": 39,
   "metadata": {},
   "outputs": [],
   "source": [
    "def bound(z: float, gti: float, k: float, p:dict):\n",
    "    \"\"\" Check whether we need to respect the bound on labour\"\"\"\n",
    "    mu = abs(p['rho'])\n",
    "    x = (z / gti) **  mu - (p['alpha'] / (k ** mu))\n",
    "    if x < 0:\n",
    "        return np.infty\n",
    "    else:\n",
    "        return ((1 - p['alpha']) / x) ** (1 / mu)\n",
    "\n",
    "\n",
    "def bisection_CES(z:float, gti:float, k:float, ft_:float, p: dict, init:float=1e3):\n",
    "    \n",
    "    print(z, gti, k)\n",
    "    assert gti > 0, \"Negative income\"\n",
    "    \n",
    "    mu = abs(p['rho'])\n",
    "    gr = p['gamma'] * (1 + p['interest'])\n",
    "    kmu = k ** mu\n",
    "    \n",
    "    pt1 = -1 * (1 - p['alpha']) * kmu \n",
    "    pt2 = 2 * ft_ * z + z\n",
    "    pt3 = 4 * gti * gr\n",
    "    pt4 = 2 * p['alpha'] * p['gamma']\n",
    "    \n",
    "    def ces(n: float):\n",
    "        temp = p['alpha'] / kmu + (1 - p['alpha']) / (n ** mu)\n",
    "        return z * temp ** (1 / mu)\n",
    "    \n",
    "    def val(n:float):\n",
    "        n2 = n **2\n",
    "        y = ces(n)\n",
    "        x = pt1 * (pt2 - 2 * p['gamma'] * n2 + pt3 * n2 * y - 2 * gti * y)\n",
    "        return x + pt4 * n2 * (n ** mu) * (z - 2 * gti * y)\n",
    "    \n",
    "    n0 = 1e-3\n",
    "    b = bound(z, gti, k, p)\n",
    "    if b == np.infty:\n",
    "        res = minimize(val, n0, tol=1e-6)\n",
    "    else:\n",
    "        bnds = (1e-4, min([init, bound(z, gti, k, p)]))\n",
    "        res = minimize(val, n0, bounds=[bnds], tol=1e-6)\n",
    "    \n",
    "    return res.x[0], ces(res.x[0])"
   ]
  },
  {
   "cell_type": "code",
   "execution_count": 40,
   "metadata": {},
   "outputs": [
    {
     "name": "stdout",
     "output_type": "stream",
     "text": [
      "Bound (inf) k=10, gti=1 = inf\n",
      "Bound (0.9289) k=1, gti=10 = 0.9289310736134464\n"
     ]
    }
   ],
   "source": [
    "def test_bound():\n",
    "    p = dict(rho=-5.5, alpha=1/3)\n",
    "    print(\"Bound (inf) k=10, gti=1 = {}\".format(bound(1, 10, 1, p)))\n",
    "    print(\"Bound (0.9289) k=1, gti=10 = {}\".format(bound(1, 1, 10, p)))\n",
    "\n",
    "test_bound()"
   ]
  },
  {
   "cell_type": "code",
   "execution_count": 44,
   "metadata": {},
   "outputs": [],
   "source": [
    "def step(t: float, x: np.ndarray, p: dict):\n",
    "    # Starting variables\n",
    "    z_, c_, n_, b_, w_, k_, q_, gt_, ft_, news_, inc_, xiz_, xin_ = x\n",
    "        \n",
    "    # Random technology process\n",
    "    rand = np.random.normal(0, p['sigmaZ'])\n",
    "    xiz = p['etaZ'] * xiz_ + np.sqrt(1 - p['etaZ'] ** 2) * rand\n",
    "    z = p['zbar'] * np.exp(xiz)\n",
    "        \n",
    "    # Income and Investment\n",
    "    print(\"w,n\",w_,n_)\n",
    "    print(\"b,q,k\",b_,q_,k_)\n",
    "    income = (w_ * n_ + b_  + q_ * k_) / (1 + p['inflation'])\n",
    "    \n",
    "    # Capital Markets\n",
    "    k = (1 - p['depreciation']) * k_ + income * (1 - gt_)\n",
    "\n",
    "    # Household decision\n",
    "    print(n_, c_)\n",
    "    n, c = bisection_CES(z, gt_*income, k, ft_, p)\n",
    "    #temp = (c / z) ** p['rho'] - p['alpha'] * (k ** p['rho'])\n",
    "    #n = (c / (z*k**p['alpha'])) ** (1 / (1-p['alpha']))\n",
    "    #n = (temp / (1-p['alpha'])) ** (1 / p['rho'])\n",
    "    b = (gt_ * income - c) * (1 + p['interest'])\n",
    "    \n",
    "    # Firm decisions\n",
    "    temp = (p['alpha'] * k ** p['rho'] + (1 - p['alpha']) * n ** p['rho']) \n",
    "    temp = temp ** ((1 / p['rho']) - 1)\n",
    "    w = (1 - p['alpha']) * z * temp * (n ** (p['rho'] - 1))\n",
    "    q = p['alpha'] * z * temp * (k ** (p['rho'] - 1))\n",
    "    \n",
    "    #w = (1-p['alpha']) * z * (k / n) ** p['alpha']\n",
    "    #q = p['alpha'] * z * (n / k) ** (1 - p['alpha'])\n",
    "    \n",
    "    # News\n",
    "    xin = np.random.normal(0, p['sigmaN'])\n",
    "    info = p['n_cons']*(c/c_ - 1)\n",
    "    n = p['n_persistence'] * news_ + (1 - p['n_persistence']) * info + xin\n",
    "    news = np.tanh(p['n_theta'] * n)\n",
    "    \n",
    "    if t > 300 and t < 400:\n",
    "        if p['shock'] == -1:\n",
    "            news = -1\n",
    "        elif p['shock'] == 1:\n",
    "            news = 1\n",
    "    \n",
    "    # Household modifiers\n",
    "    gt = 0.5 * (p['g_max'] + p['g_min'] - news * (p['g_max'] - p['g_min']))\n",
    "    ft = 0.5 * (p['f_max'] + p['f_min'] - news * (p['f_max'] - p['f_min']))\n",
    "    \n",
    "    return z, c, n, b, w, k, q, gt, ft, news, income, xiz, xin"
   ]
  },
  {
   "cell_type": "code",
   "execution_count": 45,
   "metadata": {},
   "outputs": [],
   "source": [
    "def simulate(start: np.ndarray, p: dict, t_end: float = 1e3):\n",
    "    x = np.empty((int(t_end), len(start)))\n",
    "    x[0, :] = start\n",
    "    for t in range(1, int(t_end)):\n",
    "        x[t, :] = step(t, x[t - 1, :], p)\n",
    "    cols = ['z', 'c', 'n', 'b', 'w', 'k', 'q', 'gt', 'ft', 'news', 'income', 'xiz', 'xin']\n",
    "    df = pd.DataFrame(x, columns=cols)\n",
    "    df.loc[:,'inv'] = 100*(1-df.loc[:,'gt'])\n",
    "    df.loc[:,'bc'] = df.b / df.c\n",
    "    return df"
   ]
  },
  {
   "cell_type": "markdown",
   "metadata": {},
   "source": [
    "----\n",
    "## Interactive Analysis"
   ]
  },
  {
   "cell_type": "code",
   "execution_count": 47,
   "metadata": {
    "scrolled": false
   },
   "outputs": [
    {
     "name": "stdout",
     "output_type": "stream",
     "text": [
      "w,n 1.0 1.0\n",
      "b,q,k 1.0 0.1 1.0\n",
      "1.0 1.0\n",
      "0.6211279418022426 1.6633663366336635 1.4158415841584158\n",
      "w,n 0.6053096025567809 79.95781877042664\n",
      "b,q,k 1.103523227979641 0.03994606416233482 1.4158415841584158\n",
      "79.95781877042664 0.5761513336980567\n",
      "0.5316003787446004 24.534314865335745 25.95015644949416\n",
      "w,n 0.5638380002072693 0.9483010831350751\n",
      "b,q,k 24.864930086832732 0.005180508640930201 25.95015644949416\n",
      "0.9483010831350751 0.03684679949068475\n",
      "0.2076125035264094 14.25714918161454 36.974248142000505\n",
      "w,n 0.22492500562538856 0.528760929229963\n",
      "b,q,k 14.404668067108023 2.754866404778508e-08 36.974248142000505\n",
      "0.528760929229963 0.06535798249333358\n",
      "4.4040374647170255 9.006269172521442 42.347781584014406\n",
      "w,n 4.7712920351190995 1.7633179025623988\n",
      "b,q,k 6.9554992520837775 1.843081182634062e-08 42.347781584014406\n",
      "1.7633179025623988 2.1535605497788035\n",
      "2.3472341834535926 7.8212951321682835 49.74312476517945\n",
      "w,n 2.5429699535129773 0.9384887217308464\n",
      "b,q,k 7.22362415894808 6.998508554740166e-08 49.74312476517945\n",
      "0.9384887217308464 0.7044240396085989\n",
      "1.2374242727501554 5.376378416658021 53.88177234980586\n",
      "w,n 1.340611942390111 0.6153847394139216\n",
      "b,q,k 5.167947135743256 1.1225573148245663e-07 53.88177234980586\n",
      "0.6153847394139216 0.28480488390604447\n",
      "1.6548711674388557 3.624028500351169 56.19135307232989\n",
      "w,n 1.7928717054795726 0.6815067334618787\n",
      "b,q,k 2.9113757657735784 1.9134877227590104e-09 56.19135307232989\n",
      "0.6815067334618787 0.75567799219986\n",
      "0.4983648620732527 2.454721114119719 57.828938901589034\n",
      "w,n 0.5399237746238785 0.4243543064660026\n",
      "b,q,k 2.1637499004773093 5.938549891973176e-11 57.828938901589034\n",
      "0.4243543064660026 0.32294781315685267\n",
      "0.6170837985364656 1.5325137633510635 58.66560224995731\n",
      "w,n 0.6685427489414756 0.4383104250192186\n",
      "b,q,k 1.07079664781017 2.325701435534921e-11 58.66560224995731\n",
      "0.4383104250192186 0.4775416965430142\n",
      "0.7768245605311402 0.8696084402469798 59.146316488528754\n",
      "w,n 0.8416043802851711 0.09693477780012755\n",
      "b,q,k 0.12969856527684026 7.895759987859061e-12 59.146316488528754\n",
      "0.09693477780012755 0.7418266025358071\n",
      "1.1966707734633446 0.1508921373173589 59.20461177630288\n",
      "w,n 1.2964617966136227 0.5708252786086755\n",
      "b,q,k -9.479561466434088 3.6855894278059924e-17 59.20461177630288\n",
      "0.5708252786086755 9.490361562375574\n",
      "1.0626622210829721 -5.352633418494758 55.9042666797713\n"
     ]
    },
    {
     "name": "stderr",
     "output_type": "stream",
     "text": [
      "<ipython-input-39-d818a419fab8>:33: RuntimeWarning: overflow encountered in multiply\n",
      "  return x + pt4 * n2 * (n ** mu) * (z - 2 * gti * y)\n",
      "c:\\users\\karl\\appdata\\local\\programs\\python\\python39\\lib\\site-packages\\scipy\\optimize\\_numdiff.py:557: RuntimeWarning: invalid value encountered in subtract\n",
      "  df = fun(x) - f0\n",
      "<ipython-input-39-d818a419fab8>:27: RuntimeWarning: invalid value encountered in power\n",
      "  return z * temp ** (1 / mu)\n"
     ]
    },
    {
     "ename": "AssertionError",
     "evalue": "Negative income",
     "output_type": "error",
     "traceback": [
      "\u001b[1;31m---------------------------------------------------------------------------\u001b[0m",
      "\u001b[1;31mAssertionError\u001b[0m                            Traceback (most recent call last)",
      "\u001b[1;32m<ipython-input-47-f149ca7b55cd>\u001b[0m in \u001b[0;36m<module>\u001b[1;34m\u001b[0m\n\u001b[0;32m     14\u001b[0m \u001b[1;33m\u001b[0m\u001b[0m\n\u001b[0;32m     15\u001b[0m \u001b[1;33m\u001b[0m\u001b[0m\n\u001b[1;32m---> 16\u001b[1;33m \u001b[0mdf\u001b[0m \u001b[1;33m=\u001b[0m \u001b[0msimulate\u001b[0m\u001b[1;33m(\u001b[0m\u001b[0mstart\u001b[0m\u001b[1;33m,\u001b[0m \u001b[0mparams\u001b[0m\u001b[1;33m,\u001b[0m \u001b[0mT\u001b[0m\u001b[1;33m)\u001b[0m\u001b[1;33m\u001b[0m\u001b[1;33m\u001b[0m\u001b[0m\n\u001b[0m\u001b[0;32m     17\u001b[0m \u001b[0mdf\u001b[0m \u001b[1;33m=\u001b[0m \u001b[0mdf\u001b[0m\u001b[1;33m.\u001b[0m\u001b[0miloc\u001b[0m\u001b[1;33m[\u001b[0m\u001b[0mview\u001b[0m\u001b[1;33m[\u001b[0m\u001b[1;36m0\u001b[0m\u001b[1;33m]\u001b[0m\u001b[1;33m:\u001b[0m\u001b[0mview\u001b[0m\u001b[1;33m[\u001b[0m\u001b[1;36m1\u001b[0m\u001b[1;33m]\u001b[0m\u001b[1;33m,\u001b[0m\u001b[1;33m:\u001b[0m\u001b[1;33m]\u001b[0m\u001b[1;33m\u001b[0m\u001b[1;33m\u001b[0m\u001b[0m\n\u001b[0;32m     18\u001b[0m \u001b[1;33m\u001b[0m\u001b[0m\n",
      "\u001b[1;32m<ipython-input-45-6cf4025901b0>\u001b[0m in \u001b[0;36msimulate\u001b[1;34m(start, p, t_end)\u001b[0m\n\u001b[0;32m      3\u001b[0m     \u001b[0mx\u001b[0m\u001b[1;33m[\u001b[0m\u001b[1;36m0\u001b[0m\u001b[1;33m,\u001b[0m \u001b[1;33m:\u001b[0m\u001b[1;33m]\u001b[0m \u001b[1;33m=\u001b[0m \u001b[0mstart\u001b[0m\u001b[1;33m\u001b[0m\u001b[1;33m\u001b[0m\u001b[0m\n\u001b[0;32m      4\u001b[0m     \u001b[1;32mfor\u001b[0m \u001b[0mt\u001b[0m \u001b[1;32min\u001b[0m \u001b[0mrange\u001b[0m\u001b[1;33m(\u001b[0m\u001b[1;36m1\u001b[0m\u001b[1;33m,\u001b[0m \u001b[0mint\u001b[0m\u001b[1;33m(\u001b[0m\u001b[0mt_end\u001b[0m\u001b[1;33m)\u001b[0m\u001b[1;33m)\u001b[0m\u001b[1;33m:\u001b[0m\u001b[1;33m\u001b[0m\u001b[1;33m\u001b[0m\u001b[0m\n\u001b[1;32m----> 5\u001b[1;33m         \u001b[0mx\u001b[0m\u001b[1;33m[\u001b[0m\u001b[0mt\u001b[0m\u001b[1;33m,\u001b[0m \u001b[1;33m:\u001b[0m\u001b[1;33m]\u001b[0m \u001b[1;33m=\u001b[0m \u001b[0mstep\u001b[0m\u001b[1;33m(\u001b[0m\u001b[0mt\u001b[0m\u001b[1;33m,\u001b[0m \u001b[0mx\u001b[0m\u001b[1;33m[\u001b[0m\u001b[0mt\u001b[0m \u001b[1;33m-\u001b[0m \u001b[1;36m1\u001b[0m\u001b[1;33m,\u001b[0m \u001b[1;33m:\u001b[0m\u001b[1;33m]\u001b[0m\u001b[1;33m,\u001b[0m \u001b[0mp\u001b[0m\u001b[1;33m)\u001b[0m\u001b[1;33m\u001b[0m\u001b[1;33m\u001b[0m\u001b[0m\n\u001b[0m\u001b[0;32m      6\u001b[0m     \u001b[0mcols\u001b[0m \u001b[1;33m=\u001b[0m \u001b[1;33m[\u001b[0m\u001b[1;34m'z'\u001b[0m\u001b[1;33m,\u001b[0m \u001b[1;34m'c'\u001b[0m\u001b[1;33m,\u001b[0m \u001b[1;34m'n'\u001b[0m\u001b[1;33m,\u001b[0m \u001b[1;34m'b'\u001b[0m\u001b[1;33m,\u001b[0m \u001b[1;34m'w'\u001b[0m\u001b[1;33m,\u001b[0m \u001b[1;34m'k'\u001b[0m\u001b[1;33m,\u001b[0m \u001b[1;34m'q'\u001b[0m\u001b[1;33m,\u001b[0m \u001b[1;34m'gt'\u001b[0m\u001b[1;33m,\u001b[0m \u001b[1;34m'ft'\u001b[0m\u001b[1;33m,\u001b[0m \u001b[1;34m'news'\u001b[0m\u001b[1;33m,\u001b[0m \u001b[1;34m'income'\u001b[0m\u001b[1;33m,\u001b[0m \u001b[1;34m'xiz'\u001b[0m\u001b[1;33m,\u001b[0m \u001b[1;34m'xin'\u001b[0m\u001b[1;33m]\u001b[0m\u001b[1;33m\u001b[0m\u001b[1;33m\u001b[0m\u001b[0m\n\u001b[0;32m      7\u001b[0m     \u001b[0mdf\u001b[0m \u001b[1;33m=\u001b[0m \u001b[0mpd\u001b[0m\u001b[1;33m.\u001b[0m\u001b[0mDataFrame\u001b[0m\u001b[1;33m(\u001b[0m\u001b[0mx\u001b[0m\u001b[1;33m,\u001b[0m \u001b[0mcolumns\u001b[0m\u001b[1;33m=\u001b[0m\u001b[0mcols\u001b[0m\u001b[1;33m)\u001b[0m\u001b[1;33m\u001b[0m\u001b[1;33m\u001b[0m\u001b[0m\n",
      "\u001b[1;32m<ipython-input-44-17fd1d70d78b>\u001b[0m in \u001b[0;36mstep\u001b[1;34m(t, x, p)\u001b[0m\n\u001b[0;32m     18\u001b[0m     \u001b[1;31m# Household decision\u001b[0m\u001b[1;33m\u001b[0m\u001b[1;33m\u001b[0m\u001b[1;33m\u001b[0m\u001b[0m\n\u001b[0;32m     19\u001b[0m     \u001b[0mprint\u001b[0m\u001b[1;33m(\u001b[0m\u001b[0mn_\u001b[0m\u001b[1;33m,\u001b[0m \u001b[0mc_\u001b[0m\u001b[1;33m)\u001b[0m\u001b[1;33m\u001b[0m\u001b[1;33m\u001b[0m\u001b[0m\n\u001b[1;32m---> 20\u001b[1;33m     \u001b[0mn\u001b[0m\u001b[1;33m,\u001b[0m \u001b[0mc\u001b[0m \u001b[1;33m=\u001b[0m \u001b[0mbisection_CES\u001b[0m\u001b[1;33m(\u001b[0m\u001b[0mz\u001b[0m\u001b[1;33m,\u001b[0m \u001b[0mgt_\u001b[0m\u001b[1;33m*\u001b[0m\u001b[0mincome\u001b[0m\u001b[1;33m,\u001b[0m \u001b[0mk\u001b[0m\u001b[1;33m,\u001b[0m \u001b[0mft_\u001b[0m\u001b[1;33m,\u001b[0m \u001b[0mp\u001b[0m\u001b[1;33m)\u001b[0m\u001b[1;33m\u001b[0m\u001b[1;33m\u001b[0m\u001b[0m\n\u001b[0m\u001b[0;32m     21\u001b[0m     \u001b[1;31m#temp = (c / z) ** p['rho'] - p['alpha'] * (k ** p['rho'])\u001b[0m\u001b[1;33m\u001b[0m\u001b[1;33m\u001b[0m\u001b[1;33m\u001b[0m\u001b[0m\n\u001b[0;32m     22\u001b[0m     \u001b[1;31m#n = (c / (z*k**p['alpha'])) ** (1 / (1-p['alpha']))\u001b[0m\u001b[1;33m\u001b[0m\u001b[1;33m\u001b[0m\u001b[1;33m\u001b[0m\u001b[0m\n",
      "\u001b[1;32m<ipython-input-39-d818a419fab8>\u001b[0m in \u001b[0;36mbisection_CES\u001b[1;34m(z, gti, k, ft_, p, init)\u001b[0m\n\u001b[0;32m     12\u001b[0m \u001b[1;33m\u001b[0m\u001b[0m\n\u001b[0;32m     13\u001b[0m     \u001b[0mprint\u001b[0m\u001b[1;33m(\u001b[0m\u001b[0mz\u001b[0m\u001b[1;33m,\u001b[0m \u001b[0mgti\u001b[0m\u001b[1;33m,\u001b[0m \u001b[0mk\u001b[0m\u001b[1;33m)\u001b[0m\u001b[1;33m\u001b[0m\u001b[1;33m\u001b[0m\u001b[0m\n\u001b[1;32m---> 14\u001b[1;33m     \u001b[1;32massert\u001b[0m \u001b[0mgti\u001b[0m \u001b[1;33m>\u001b[0m \u001b[1;36m0\u001b[0m\u001b[1;33m,\u001b[0m \u001b[1;34m\"Negative income\"\u001b[0m\u001b[1;33m\u001b[0m\u001b[1;33m\u001b[0m\u001b[0m\n\u001b[0m\u001b[0;32m     15\u001b[0m \u001b[1;33m\u001b[0m\u001b[0m\n\u001b[0;32m     16\u001b[0m     \u001b[0mmu\u001b[0m \u001b[1;33m=\u001b[0m \u001b[0mabs\u001b[0m\u001b[1;33m(\u001b[0m\u001b[0mp\u001b[0m\u001b[1;33m[\u001b[0m\u001b[1;34m'rho'\u001b[0m\u001b[1;33m]\u001b[0m\u001b[1;33m)\u001b[0m\u001b[1;33m\u001b[0m\u001b[1;33m\u001b[0m\u001b[0m\n",
      "\u001b[1;31mAssertionError\u001b[0m: Negative income"
     ]
    }
   ],
   "source": [
    "params = {'etaZ': 0.2, 'sigmaZ': 0.8, 'zbar': 1.0, 'sigmaN': 0.2, \n",
    "          'inflation': 0.01, 'interest': 0.015, 'depreciation': 0.0, \n",
    "          'g_min': 0.5, 'g_max': 0.99, 'f_min': 1.0, 'f_max': 100, \n",
    "          'n_cons': 0.2, 'n_theta': 1, 'n_persistence': 0.8, \n",
    "          'gamma': 1.0, 'alpha': 0.33, 'rho': -5, 'shock': 1.0}\n",
    "\n",
    "start = dict(z=1, c=1, n=1, b=1, w=1, k=1, q=0.1, \n",
    "             gt=0.8, ft=.5, income=100, news=1, xiz=0, xin=0)\n",
    "start = np.array([v for _,v in start.items()])\n",
    "\n",
    "T = 1e2\n",
    "np.random.seed(40)\n",
    "view = (1, int(T))\n",
    "\n",
    "\n",
    "df = simulate(start, params, T)\n",
    "df = df.iloc[view[0]:view[1],:]\n",
    "\n",
    "graphs = {\n",
    "        'ln Consumption & Bonds' : [df.loc[:,['c','b']], True],\n",
    "        'Utility of Bonds' : [df.ft, False],\n",
    "        'ln Labour' : [df.n, True],\n",
    "        'ln Wages' : [df.w, True],\n",
    "        'ln Income' : [df.income, True],\n",
    "        'Investment %' : [df.inv, False],\n",
    "        'ln Capital' : [df.k, True],\n",
    "        'ln Returns' : [df.q, True],\n",
    "        'News' : [df.news, False],\n",
    "        'ln B/C Ratio' : [df.bc, True],\n",
    "    }\n",
    "\n",
    "\n",
    "axs = model.simulation_graph(graphs, size = (6, 10))\n",
    "axs['ln Returns'].axhline(params['interest'], color='red', linewidth=0.5)"
   ]
  },
  {
   "cell_type": "code",
   "execution_count": 8,
   "metadata": {},
   "outputs": [],
   "source": [
    "param_bounds = {\n",
    "    # Restrict noise params to be constant\n",
    "    'etaZ': (0.2,0.2), 'sigmaZ': (0.8,0.8), 'sigmaN': (0.2,0.2), \n",
    "    # Realistic monthly values - 0% to 5%\n",
    "    'inflation': (0.0,0.05), 'interest': (0.0,0.05), 'depreciation': (0.0,0.05),\n",
    "    # Saving and bond parameters\n",
    "    'g_min': (0.0,0.99), 'g_max': (0.0,0.99), 'f_min': (0.0,1e1), 'f_max': (1e1,1e3),\n",
    "    # News parameters\n",
    "    'n_cons': (0.1,10), 'n_theta': (0.1,10), 'n_persistence': (0.0,0.99),\n",
    "    # Production & Household\n",
    "    'zbar': (1.0,1.0), 'gamma': (1.0,10.0), 'alpha': (0.1,0.9), 'rho': (-1e4,-1e-1), \n",
    "    # No shocks for now\n",
    "    'shock': (0.0,0.0)}\n",
    "\n",
    "n = 5\n",
    "param_steps = {'etaZ': 0, 'sigmaZ': 0, 'sigmaN': 0, 'inflation': 0, 'interest': 0, 'depreciation': 0,\n",
    "    'g_min': n, 'g_max': n, 'f_min': n, 'f_max': n, 'n_cons': n, 'n_theta': n, 'n_persistence': n,\n",
    "    'zbar': 0, 'gamma': 0, 'alpha': n, 'rho': n, 'shock': 0}"
   ]
  },
  {
   "cell_type": "code",
   "execution_count": 9,
   "metadata": {},
   "outputs": [],
   "source": [
    "# Generate the whole set of parameters\n",
    "params = {'etaZ': 0.2, 'sigmaZ': 0.8, 'zbar': 1.0, 'sigmaN': 0.2, \n",
    "          'inflation': 0.01, 'interest': 0.01, 'depreciation': 0.01, \n",
    "          'g_min': 0.8, 'g_max': 0.99, 'f_min': 1.0, 'f_max': 100, \n",
    "          'n_cons': 1, 'n_theta': 1, 'n_persistence': 0.8, \n",
    "          'gamma': 1.0, 'alpha': 0.5, 'rho': -1, 'shock': 0.0}\n",
    "\n",
    "constants = [k for k,v in param_steps.items() if v==0]\n",
    "ranges = {k:np.linspace(*v, param_steps[k]) for k,v in param_bounds.items()}\n",
    "ranges = {k:v for k,v in ranges.items() if v.size!=0}"
   ]
  },
  {
   "cell_type": "code",
   "execution_count": 10,
   "metadata": {},
   "outputs": [],
   "source": [
    "results = pd.DataFrame(columns = list(ranges.keys()))"
   ]
  },
  {
   "cell_type": "code",
   "execution_count": 11,
   "metadata": {},
   "outputs": [],
   "source": [
    "from itertools import product\n",
    "\n",
    "var = list(ranges.keys())\n",
    "\n",
    "for tup in product(*list(ranges.values())):\n",
    "    # Generate unique parameter set\n",
    "    p = dict(params)\n",
    "    for combo in zip(var, tup):\n",
    "        p[combo[0]] = combo[1]\n",
    "    #df = simulate(start)\n"
   ]
  },
  {
   "cell_type": "code",
   "execution_count": 12,
   "metadata": {},
   "outputs": [],
   "source": [
    "def dead_economy(df, epsilon):\n",
    "    return df.c.iloc[-1] < epsilon"
   ]
  },
  {
   "cell_type": "code",
   "execution_count": 23,
   "metadata": {},
   "outputs": [],
   "source": [
    "# CES\n",
    "def lhs_CES(cons: float, z: float, k:float, alpha: float, gamma: float, r: float, rho: float) -> float:\n",
    "        pt1 = 2 * gamma * (1+r) / ((z ** 2) * (1 - alpha) ** (2 / rho))\n",
    "        pt2 = cons ** 2\n",
    "        pt3 = (1 - alpha*(z * k / cons) ** rho) ** ((2 - rho) / rho)\n",
    "        print(pt1, pt2, pt3)\n",
    "        return pt1 * pt2 * pt3\n",
    "\n",
    "def rhs_CES(cons: float, gti: float, ft: float) -> float:\n",
    "    return 1 - (ft * cons) / (gti - cons)\n",
    "    \n",
    "\n",
    "def bisection_CES(z:float, income:float, k:float, gt_:float, ft_:float, p:dict, err:float=1e-2)->float:\n",
    "    assert gt_ * income > 0\n",
    "    # Define the left and right hand sides of the equations\n",
    "    diff = lambda c: rhs_CES(c, gt_ * income, ft_) - lhs_CES(c, z, k, p['alpha'], p['gamma'], p['interest'], p['rho'])\n",
    "    \n",
    "    # Initial guess at the next options for \n",
    "    a = k * z * (p['alpha'] ** (1 / p['rho'])) \n",
    "    if a > gt_ * income:\n",
    "        print(\"Bad boundaries, setting c=g\")\n",
    "        return gt_ * income\n",
    "    \n",
    "    x = [a, 0.5 * (gt_*income + a), gt_*income]\n",
    "    print(x)\n",
    "    \n",
    "    #guess = np.min([gt_*income, k * z * (p['alpha'] ** (1 / p['rho']))])\n",
    "    #x = [0, guess / 2, guess]\n",
    "    abs_lst = [abs(diff(i)) for i in x[:2]]\n",
    "    \n",
    "    # Apply bi-section method\n",
    "    while min(abs_lst) >= err:\n",
    "        test = np.sign([diff(i) for i in x])\n",
    "        if test[0] == test[1]:\n",
    "            x = [x[1], (x[1] + x[2]) / 2, x[2]]\n",
    "        elif test[1] == test[2]:\n",
    "            x = [x[0], (x[0] + x[1]) / 2, x[1]]\n",
    "\n",
    "        abs_lst = [abs(diff(i)) for i in x[:2]]\n",
    "\n",
    "    return x[np.argmin(abs_lst)]"
   ]
  }
 ],
 "metadata": {
  "kernelspec": {
   "display_name": "local-venv-kernel",
   "language": "python",
   "name": "local-venv-kernel"
  },
  "language_info": {
   "codemirror_mode": {
    "name": "ipython",
    "version": 3
   },
   "file_extension": ".py",
   "mimetype": "text/x-python",
   "name": "python",
   "nbconvert_exporter": "python",
   "pygments_lexer": "ipython3",
   "version": "3.9.1"
  }
 },
 "nbformat": 4,
 "nbformat_minor": 4
}
