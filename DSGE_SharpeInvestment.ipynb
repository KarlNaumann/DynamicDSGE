{
 "cells": [
  {
   "cell_type": "markdown",
   "metadata": {},
   "source": [
    "## DSGE w. Feedback - Numerical Simulations"
   ]
  },
  {
   "cell_type": "markdown",
   "metadata": {},
   "source": [
    "### Imports"
   ]
  },
  {
   "cell_type": "code",
   "execution_count": 581,
   "metadata": {
    "scrolled": true
   },
   "outputs": [],
   "source": [
    "%matplotlib notebook\n",
    "%matplotlib inline"
   ]
  },
  {
   "cell_type": "code",
   "execution_count": 582,
   "metadata": {},
   "outputs": [],
   "source": [
    "import numpy as np\n",
    "import pandas as pd\n",
    "import matplotlib.pyplot as plt\n",
    "import matplotlib as mpl\n",
    "from matplotlib import cm\n",
    "import copy\n",
    "import pickle"
   ]
  },
  {
   "cell_type": "code",
   "execution_count": 583,
   "metadata": {},
   "outputs": [],
   "source": [
    "import steadystate\n",
    "import model\n",
    "import graphs"
   ]
  },
  {
   "cell_type": "markdown",
   "metadata": {},
   "source": [
    "-----\n",
    "# Rebuilding Investment Based on Sharpe Ratio"
   ]
  },
  {
   "cell_type": "code",
   "execution_count": 831,
   "metadata": {},
   "outputs": [],
   "source": [
    "def step(t: float, x: np.ndarray, p: dict, err:float):\n",
    "    \"\"\"Iteration of one step in the simulation\n",
    "    \n",
    "    Parameters\n",
    "    ----------\n",
    "    t : float\n",
    "        Current timestep t\n",
    "    x : np.ndarray\n",
    "        state variables z, c, n, b, w, k, q, g, s, news, inc, xiz, xin\n",
    "    p : dict\n",
    "        Parameters from simulation\n",
    "        \n",
    "    Returns\n",
    "    -------\n",
    "    bound : float\n",
    "        Upper bound on consumption\n",
    "    \"\"\"\n",
    "    # Variables for the simulation\n",
    "    z_, xiz_, c_, n_, b_, w_, k_, m_, k__, q_, g_, s_, s0_, mu_, sig2_, news_, c0_, sharpe_ = x\n",
    "        \n",
    "    # Random technology process\n",
    "    if p['steady_state']: \n",
    "        rand = np.random.normal(0,p['sigmaZ'])\n",
    "    else: \n",
    "        rand = np.random.normal(0,p['sigmaZ'])\n",
    "    xiz = p['etaZ'] * xiz_ + np.sqrt(1 - p['etaZ'] ** 2) * rand\n",
    "    z = p['zbar'] * np.exp(xiz)\n",
    "    \n",
    "    g_ = 0.5 * ((p['g_max'] - p['g_min']) * np.tanh(p['g_theta'] * (c_ - p['c0'])) + p['g_max'] + p['g_min'])\n",
    "  \n",
    "    # Determine Consumption\n",
    "    c = model.bisection(z, g_, k_, p)\n",
    "\n",
    "    # Working hours via market clearing\n",
    "    n = ((c / z) ** (-1 * p['mu']) - p['alpha'] * k_ ** (-1 * p['mu']))\n",
    "    n = (n / (1 - p['alpha'])) ** (-1 / p['mu'])\n",
    "    \n",
    "    # Firm observes desired working hours, sets the wage accordingly\n",
    "    rho = -1 * p['mu']\n",
    "    temp = (p['alpha'] * k_ ** rho + (1 - p['alpha']) * n ** rho) \n",
    "    temp = temp ** ((1 / rho) - 1)\n",
    "    w = (1 - p['alpha']) * z * temp * (n ** (rho - 1))\n",
    "    \n",
    "    # Income\n",
    "    income = w * n + (b_  + q_ * k__) / (1 + p['inflation'])\n",
    "    m = g_ * income - c \n",
    "    \n",
    "    # Investment & Bonds\n",
    "    investment = income * (1 - g_)\n",
    "    b = (1 + p['interest']) * s_ * investment\n",
    "    \n",
    "    # Capital & Risky return\n",
    "   \n",
    "    k = (1 - p['depreciation']) * k_ + investment * (1 - s_)\n",
    "    temp = (p['alpha'] * k ** rho + (1 - p['alpha']) * n ** rho) \n",
    "    temp = temp ** ((1 / rho) - 1)\n",
    "    q = p['alpha'] * z * temp * k ** (rho - 1)\n",
    "    \n",
    "    # Returns to the household's portfolio\n",
    "    #w_b = b_ / (b_ + k__)\n",
    "    #port_ret = w_b * p['interest'] + (1 - w_b) * q_\n",
    "    \n",
    "    w_b = k_ / (b_+k_)\n",
    "    port_ret = q_#k_ / (b_+k_) * q_\n",
    "     \n",
    "    # Expectations are based on EWMA (returns and volatility)\n",
    "    \n",
    "    mu =  p['memory_1'] * mu_ + (1 - p['memory_1']) * port_ret\n",
    "    sig2 =  p['memory_1'] * sig2_ + (1 - p['memory_1']) * (port_ret - mu_)**2\n",
    "    \n",
    "    sharpe = (p['interest'] -  mu) / np.sqrt(sig2)\n",
    "    \n",
    "    \n",
    "    \n",
    "    c0 =  0.5*((p['g_max']-p['g_min']) - g_) # np.tanh(p['memory_2'] * c0_ + (1 - p['memory_2']) * ((c_/c)-1))\n",
    "    \n",
    "    #\n",
    "    \n",
    "    s0 = sharpe\n",
    "    news = p['ratio']*s0 + (1-p['ratio'])*c0 #+ np.random.uniform(-p['ex_news'],p['ex_news'])\n",
    "    \n",
    "    # Risk-weighted excess returns are the signal\n",
    "    if p['steady_state']: \n",
    "        s0 = 1e9 \n",
    "         # s0 large = good signal\n",
    "    \n",
    "    # Decision on Spending and Investment Allocation\n",
    "    \n",
    "    financial_risk = np.random.beta(a=p['q_shock']*k/n, b=1)\n",
    "    q = q * financial_risk\n",
    "    g = g_\n",
    "    s_max = p['s_max'] #*( (1 - p['depreciation']) * k_ + investment ) / investment\n",
    "    \n",
    "    s = 0.5 * ((s_max - p['s_min']) * np.tanh(p['s_theta'] * (news)) + s_max + p['s_min'])\n",
    "    \n",
    "    return z, xiz, c, n, b, w, k, m, k_, q, g, s, s0, mu, sig2, news, c0, sharpe\n",
    "\n",
    "# TO CHANGE THE STEP DO NOT CHANGE THE RETURN VARIABLES"
   ]
  },
  {
   "cell_type": "markdown",
   "metadata": {},
   "source": [
    "Observable stylized facts to check: <br>\n",
    "- Magnitude of annualised Sharpe ratio\n",
    "- Duration of crises "
   ]
  },
  {
   "cell_type": "code",
   "execution_count": 844,
   "metadata": {},
   "outputs": [],
   "source": [
    "T = 10000\n",
    "np.random.seed(40)\n",
    "\n",
    "params = {\n",
    "    # Noise Parameters\n",
    "    'etaZ':0.5, 'zbar':1.0,\n",
    "    # Empirical Parameters\n",
    "    'inflation':0.0015, 'interest':0.001, 'depreciation':0.08,\n",
    "    # Quasi-fixed parameters\n",
    "    's_min':0, 's_max':1, 'g_min':0.05, 'g_max':.95, 'memory_1':0.98,'memory_2':.5, 'gamma':1.0, 'alpha':0.33, 'mu':7.32,\n",
    "    # Variable parameters\n",
    "    'sigmaZ':.4, 'q_shock':20, 'c0':.3, 'g_theta': 15,'s_theta':15, 'ratio':.4, 'steady_state' : False}\n",
    "\n",
    "params_steady = copy.copy(params)\n",
    "params_steady['depreciation'] = 0 \n",
    "params_steady['steady_state'] = True \n",
    "\n",
    "start = dict(z=1, xiz=1, c=1, n=1, b=1, w=1, k=.1, m=0.0, k_=0.0, \n",
    "             q=0.02, g=0.7, s=0.5, s0=0.0, mu=0.01, sig2=1e-5, news=0, c0=0, income=0)\n",
    "\n",
    "\n",
    "df_steady = model.simulate(start, params_steady, step_func=step, t_end=T, err = 1e-20)\n",
    "df = model.simulate(start, params, step_func=step, t_end=T, err = 1e-20)\n",
    "\n",
    "df.loc[:,'crisis'] = 0.5 * (1.0 + np.sign(df.n - df.k))\n",
    "df.loc[:,'inv'] = 100 * (1-df.loc[:,'g'])\n",
    "df.loc[:,'bc'] = df.b / df.c\n",
    "df.loc[:,'utility'] = np.log(df.c) - params['gamma'] * (df.n ** 2)"
   ]
  },
  {
   "cell_type": "code",
   "execution_count": 850,
   "metadata": {
    "scrolled": false
   },
   "outputs": [
    {
     "name": "stderr",
     "output_type": "stream",
     "text": [
      "/Users/fedemoro/anaconda3/lib/python3.7/site-packages/ipykernel_launcher.py:24: RuntimeWarning: divide by zero encountered in log\n"
     ]
    },
    {
     "data": {
      "image/png": "[encoded data removed]",
      "text/plain": [
       "<Figure size 576x576 with 5 Axes>"
      ]
     },
     "metadata": {
      "needs_background": "light"
     },
     "output_type": "display_data"
    }
   ],
   "source": [
    "view = [2260,2300]\n",
    "\n",
    "df_plot = copy.copy(df.iloc[view[0]:view[1],:])\n",
    "\n",
    "plots = {\n",
    "        'ln Consumption & Capital' : [df.loc[:,['c','k']], True],\n",
    "        'Sentiment' : [df.s, False],\n",
    "        'ln Labour' : [df.loc[:,['n','k']], True],\n",
    "        'ln Wages' : [df.w, True],\n",
    "        'M' : [df.m, False],\n",
    "        'Crisis' : [df.crisis, False],\n",
    "        'ln Capital' : [df.loc[:,['k']], True],\n",
    "        'ln Returns' : [df.q, True],\n",
    "    }\n",
    "\n",
    "\n",
    "\n",
    "\n",
    "fig, ax = plt.subplots(2,2, figsize = (8,8))\n",
    "\n",
    "hist = np.histogram(df.c, bins = 200)\n",
    "hist_c0 = np.histogram(df.c0, bins = 200)\n",
    "hist_s0 = np.histogram(df.s0, bins = 200)\n",
    "ax[1,0].plot(hist[1][1:], np.log(hist[0]), 'o', color = 'k')\n",
    "ax[1,0].axvline(params['c0'], color = 'red')\n",
    "ax[1,0].set_yscale('log')\n",
    "ax[1,0].set_xscale('log')\n",
    "\n",
    "ax[1,1].plot(hist_c0[1][1:], hist_c0[0], 'o', color = 'k', label = r'$c_0$')\n",
    "ax[1,1].plot(hist_s0[1][1:], hist_s0[0], 'x', color = 'b', label = r'$s_0$')\n",
    "#ax[1].axvline(params['c0'], color = 'red')\n",
    "ax[1,1].set_yscale('log')\n",
    "#ax[1].set_xscale('log')\n",
    "\n",
    "\n",
    "\n",
    "\n",
    "\n",
    "#ax[0,0].plot(df_plot.s0, label='s0', color = 'r')\n",
    "ax[0,0].plot(df_plot.c, label='c0', color = 'k')\n",
    "#ax[0,0].plot(df_plot.s, label='s', color = 'blue')\n",
    "#ax[0].plot(df_steady.c, color='yellow' , linestyle = '--')\n",
    "ax[0,0].set_ylabel('c')\n",
    "ax[0,0].axhline(params['c0'],color='gray')\n",
    "#ax[0].plot(df.c0, color='red')\n",
    "ax[0,0].set_title('s0 (red) + c0 (black)')\n",
    "ax[0,0].set_yscale('log')\n",
    "\n",
    "ax[0,1].plot(df_plot.n, label='n', color='blue')\n",
    "#ax[1].plot(df_steady.n, color = 'green')\n",
    "ax[0,1].plot(df_plot.k, label='k', color='red')\n",
    "a = ax[0,1].twinx()\n",
    "a.plot(df_plot.s0,  color='k')\n",
    "#ax[1].plot(df_steady.k, label='k', color='green')\n",
    "ax[0,1].set_ylabel(r'k  n')\n",
    "ax[0,1].set_title('Capital (red) vs. Labour (blue)')\n",
    "ax[0,1].set_yscale('log')\n",
    "\n",
    "#ax[2].plot(1-df.s, label='s', color='blue')\n",
    "#ax[2].plot(df.g, label='g', color='red')\n",
    "#ax[2].set_ylabel(r'1-s')\n",
    "#ax[2].plot(np.exp(df.c0), color='red')\n",
    "#ax[2].set_title('ks_dot (blue) vs investments prop.(red)')\n",
    "\n",
    "#a = ax[5]\n",
    "#sharpe = df.s0\n",
    "#a.plot(sharpe, color='blue')\n",
    "#a.plot(1-df.s, color='red')\n",
    "#a.axhline(sharpe.mean(), linestyle = '--', color='black')\n",
    "#a.set_ylabel('sharpe')\n",
    "#a.set_title(r'Av. sharpe ratio = ' + str(sharpe.mean()))\n",
    "\n",
    "\n",
    "#ax[3].set_ylabel('r vs q')\n",
    "#ax[3].axhline(params['interest'],color='gray')\n",
    "#ax[3].plot(df.q, label='c0', color='red')\n",
    "#ax[3].axhline(params['interest'], color='red', linestyle='--')\n",
    "#ax[3].set_title('w vs q')\n",
    "\n",
    "\n",
    "#ax[4].set_title(r'q shock : .1 * k/n')\n",
    "#ax[4].plot((df.k/df.n)*params['q_shock'])\n",
    "\n",
    "#ax[6].set_title(r'Income')\n",
    "#ax[6].plot(df.income)\n",
    "\n",
    "#ax[7].set_title(r'Bond v. Capital')\n",
    "#ax[7].plot(df.n, color='blue')\n",
    "#ax[7].set_yscale('log')\n",
    "\n",
    "for a in [ax[0,0],ax[0,1]]:\n",
    "    low,high = a.get_ylim()\n",
    "    a.fill_between(df.index, low, high, where=df.n>df.k, alpha=0.5, color='lightgray')\n",
    "    a.fill_between(df.index, low, high, where=df.c <= params['c0'], alpha=0.1, color='red')\n",
    "    a.set_xlim(view[0], view[1])\n",
    "\n",
    "plt.legend()\n",
    "#plt.savefig('/Users/fedemoro/Desktop/solow/fig_2_quasi.pdf', format = 'pdf')\n",
    "plt.show()"
   ]
  },
  {
   "cell_type": "code",
   "execution_count": 846,
   "metadata": {},
   "outputs": [
    {
     "name": "stderr",
     "output_type": "stream",
     "text": [
      "/Users/fedemoro/anaconda3/lib/python3.7/site-packages/ipykernel_launcher.py:5: RuntimeWarning: divide by zero encountered in log\n",
      "  \"\"\"\n"
     ]
    },
    {
     "data": {
      "image/png": "[encoded data removed]",
      "text/plain": [
       "<Figure size 936x432 with 2 Axes>"
      ]
     },
     "metadata": {
      "needs_background": "light"
     },
     "output_type": "display_data"
    }
   ],
   "source": [
    "fig, ax = plt.subplots(1,2 ,figsize = (13,6))\n",
    "hist = np.histogram(df.c, bins = 200)\n",
    "hist_c0 = np.histogram(df.c0, bins = 200)\n",
    "hist_s0 = np.histogram(df.s0, bins = 200)\n",
    "ax[0].plot(hist[1][1:], np.log(hist[0]), 'o', color = 'k')\n",
    "ax[0].axvline(params['c0'], color = 'red')\n",
    "ax[0].set_yscale('log')\n",
    "ax[0].set_xscale('log')\n",
    "\n",
    "ax[1].plot(hist_c0[1][1:], hist_c0[0], 'o', color = 'k', label = r'$c_0$')\n",
    "ax[1].plot(hist_s0[1][1:], hist_s0[0], 'x', color = 'b', label = r'$s_0$')\n",
    "#ax[1].axvline(params['c0'], color = 'red')\n",
    "ax[1].set_yscale('log')\n",
    "#ax[1].set_xscale('log')\n",
    "\n",
    "plt.legend()\n",
    "\n",
    "plt.show()"
   ]
  },
  {
   "cell_type": "code",
   "execution_count": 125,
   "metadata": {},
   "outputs": [
    {
     "name": "stdout",
     "output_type": "stream",
     "text": [
      "0.0\n"
     ]
    },
    {
     "ename": "KeyError",
     "evalue": "'g_max'",
     "output_type": "error",
     "traceback": [
      "\u001b[0;31m---------------------------------------------------------------------------\u001b[0m",
      "\u001b[0;31mKeyError\u001b[0m                                  Traceback (most recent call last)",
      "\u001b[0;32m<ipython-input-125-7885345f2475>\u001b[0m in \u001b[0;36m<module>\u001b[0;34m()\u001b[0m\n\u001b[1;32m     21\u001b[0m     \u001b[0mnp\u001b[0m\u001b[0;34m.\u001b[0m\u001b[0mrandom\u001b[0m\u001b[0;34m.\u001b[0m\u001b[0mseed\u001b[0m\u001b[0;34m(\u001b[0m\u001b[0;36m40\u001b[0m\u001b[0;34m)\u001b[0m\u001b[0;34m\u001b[0m\u001b[0;34m\u001b[0m\u001b[0m\n\u001b[1;32m     22\u001b[0m     \u001b[0mview\u001b[0m \u001b[0;34m=\u001b[0m \u001b[0;34m[\u001b[0m\u001b[0;36m100\u001b[0m\u001b[0;34m,\u001b[0m \u001b[0mT\u001b[0m\u001b[0;34m]\u001b[0m\u001b[0;34m\u001b[0m\u001b[0;34m\u001b[0m\u001b[0m\n\u001b[0;32m---> 23\u001b[0;31m     \u001b[0mdf\u001b[0m \u001b[0;34m=\u001b[0m \u001b[0mmodel\u001b[0m\u001b[0;34m.\u001b[0m\u001b[0msimulate\u001b[0m\u001b[0;34m(\u001b[0m\u001b[0mstart\u001b[0m\u001b[0;34m,\u001b[0m \u001b[0mparams\u001b[0m\u001b[0;34m,\u001b[0m \u001b[0mstep_func\u001b[0m\u001b[0;34m=\u001b[0m\u001b[0mstep\u001b[0m\u001b[0;34m,\u001b[0m \u001b[0mt_end\u001b[0m\u001b[0;34m=\u001b[0m\u001b[0mT\u001b[0m\u001b[0;34m,\u001b[0m \u001b[0merr\u001b[0m \u001b[0;34m=\u001b[0m \u001b[0;36m1e-20\u001b[0m\u001b[0;34m)\u001b[0m\u001b[0;34m\u001b[0m\u001b[0;34m\u001b[0m\u001b[0m\n\u001b[0m\u001b[1;32m     24\u001b[0m     \u001b[0mdf\u001b[0m \u001b[0;34m=\u001b[0m \u001b[0mdf\u001b[0m\u001b[0;34m.\u001b[0m\u001b[0miloc\u001b[0m\u001b[0;34m[\u001b[0m\u001b[0mview\u001b[0m\u001b[0;34m[\u001b[0m\u001b[0;36m0\u001b[0m\u001b[0;34m]\u001b[0m\u001b[0;34m:\u001b[0m\u001b[0mview\u001b[0m\u001b[0;34m[\u001b[0m\u001b[0;36m1\u001b[0m\u001b[0;34m]\u001b[0m\u001b[0;34m,\u001b[0m\u001b[0;34m:\u001b[0m\u001b[0;34m]\u001b[0m\u001b[0;34m\u001b[0m\u001b[0;34m\u001b[0m\u001b[0m\n\u001b[1;32m     25\u001b[0m \u001b[0;34m\u001b[0m\u001b[0m\n",
      "\u001b[0;32m~/Desktop/DynamicDSGE/model.py\u001b[0m in \u001b[0;36msimulate\u001b[0;34m(start, p, step_func, t_end, err)\u001b[0m\n\u001b[1;32m    276\u001b[0m     \u001b[0mx\u001b[0m\u001b[0;34m[\u001b[0m\u001b[0;36m0\u001b[0m\u001b[0;34m,\u001b[0m \u001b[0;34m:\u001b[0m\u001b[0;34m]\u001b[0m \u001b[0;34m=\u001b[0m \u001b[0;34m[\u001b[0m\u001b[0mv\u001b[0m \u001b[0;32mfor\u001b[0m \u001b[0m_\u001b[0m\u001b[0;34m,\u001b[0m \u001b[0mv\u001b[0m \u001b[0;32min\u001b[0m \u001b[0mstart\u001b[0m\u001b[0;34m.\u001b[0m\u001b[0mitems\u001b[0m\u001b[0;34m(\u001b[0m\u001b[0;34m)\u001b[0m\u001b[0;34m]\u001b[0m\u001b[0;34m\u001b[0m\u001b[0;34m\u001b[0m\u001b[0m\n\u001b[1;32m    277\u001b[0m     \u001b[0;32mfor\u001b[0m \u001b[0mt\u001b[0m \u001b[0;32min\u001b[0m \u001b[0mrange\u001b[0m\u001b[0;34m(\u001b[0m\u001b[0;36m1\u001b[0m\u001b[0;34m,\u001b[0m \u001b[0mint\u001b[0m\u001b[0;34m(\u001b[0m\u001b[0mt_end\u001b[0m\u001b[0;34m)\u001b[0m\u001b[0;34m)\u001b[0m\u001b[0;34m:\u001b[0m\u001b[0;34m\u001b[0m\u001b[0;34m\u001b[0m\u001b[0m\n\u001b[0;32m--> 278\u001b[0;31m         \u001b[0mx\u001b[0m\u001b[0;34m[\u001b[0m\u001b[0mt\u001b[0m\u001b[0;34m,\u001b[0m \u001b[0;34m:\u001b[0m\u001b[0;34m]\u001b[0m \u001b[0;34m=\u001b[0m \u001b[0mstep_func\u001b[0m\u001b[0;34m(\u001b[0m\u001b[0mt\u001b[0m\u001b[0;34m,\u001b[0m \u001b[0mx\u001b[0m\u001b[0;34m[\u001b[0m\u001b[0mt\u001b[0m \u001b[0;34m-\u001b[0m \u001b[0;36m1\u001b[0m\u001b[0;34m,\u001b[0m \u001b[0;34m:\u001b[0m\u001b[0;34m]\u001b[0m\u001b[0;34m,\u001b[0m \u001b[0mp\u001b[0m\u001b[0;34m,\u001b[0m \u001b[0merr\u001b[0m\u001b[0;34m)\u001b[0m\u001b[0;34m\u001b[0m\u001b[0;34m\u001b[0m\u001b[0m\n\u001b[0m\u001b[1;32m    279\u001b[0m \u001b[0;34m\u001b[0m\u001b[0m\n\u001b[1;32m    280\u001b[0m     \u001b[0;32mreturn\u001b[0m \u001b[0mpd\u001b[0m\u001b[0;34m.\u001b[0m\u001b[0mDataFrame\u001b[0m\u001b[0;34m(\u001b[0m\u001b[0mx\u001b[0m\u001b[0;34m[\u001b[0m\u001b[0;34m:\u001b[0m\u001b[0mt\u001b[0m \u001b[0;34m+\u001b[0m \u001b[0;36m1\u001b[0m\u001b[0;34m,\u001b[0m \u001b[0;34m:\u001b[0m\u001b[0;34m]\u001b[0m\u001b[0;34m,\u001b[0m \u001b[0mcolumns\u001b[0m\u001b[0;34m=\u001b[0m\u001b[0mstart\u001b[0m\u001b[0;34m.\u001b[0m\u001b[0mkeys\u001b[0m\u001b[0;34m(\u001b[0m\u001b[0;34m)\u001b[0m\u001b[0;34m)\u001b[0m\u001b[0;34m\u001b[0m\u001b[0;34m\u001b[0m\u001b[0m\n",
      "\u001b[0;32m<ipython-input-123-101ed62a8444>\u001b[0m in \u001b[0;36mstep\u001b[0;34m(t, x, p, err)\u001b[0m\n\u001b[1;32m     27\u001b[0m     \u001b[0mz\u001b[0m \u001b[0;34m=\u001b[0m \u001b[0mp\u001b[0m\u001b[0;34m[\u001b[0m\u001b[0;34m'zbar'\u001b[0m\u001b[0;34m]\u001b[0m \u001b[0;34m*\u001b[0m \u001b[0mnp\u001b[0m\u001b[0;34m.\u001b[0m\u001b[0mexp\u001b[0m\u001b[0;34m(\u001b[0m\u001b[0mxiz\u001b[0m\u001b[0;34m)\u001b[0m\u001b[0;34m\u001b[0m\u001b[0;34m\u001b[0m\u001b[0m\n\u001b[1;32m     28\u001b[0m \u001b[0;34m\u001b[0m\u001b[0m\n\u001b[0;32m---> 29\u001b[0;31m     \u001b[0mg_\u001b[0m \u001b[0;34m=\u001b[0m \u001b[0;36m0.5\u001b[0m \u001b[0;34m*\u001b[0m \u001b[0;34m(\u001b[0m\u001b[0;34m(\u001b[0m\u001b[0mp\u001b[0m\u001b[0;34m[\u001b[0m\u001b[0;34m'g_max'\u001b[0m\u001b[0;34m]\u001b[0m \u001b[0;34m-\u001b[0m \u001b[0mp\u001b[0m\u001b[0;34m[\u001b[0m\u001b[0;34m'g_min'\u001b[0m\u001b[0;34m]\u001b[0m\u001b[0;34m)\u001b[0m \u001b[0;34m*\u001b[0m \u001b[0mnp\u001b[0m\u001b[0;34m.\u001b[0m\u001b[0mtanh\u001b[0m\u001b[0;34m(\u001b[0m\u001b[0mp\u001b[0m\u001b[0;34m[\u001b[0m\u001b[0;34m'g_theta'\u001b[0m\u001b[0;34m]\u001b[0m \u001b[0;34m*\u001b[0m \u001b[0;34m(\u001b[0m\u001b[0mc_\u001b[0m \u001b[0;34m-\u001b[0m \u001b[0mp\u001b[0m\u001b[0;34m[\u001b[0m\u001b[0;34m'c0'\u001b[0m\u001b[0;34m]\u001b[0m\u001b[0;34m)\u001b[0m\u001b[0;34m)\u001b[0m \u001b[0;34m+\u001b[0m \u001b[0mp\u001b[0m\u001b[0;34m[\u001b[0m\u001b[0;34m'g_max'\u001b[0m\u001b[0;34m]\u001b[0m \u001b[0;34m+\u001b[0m \u001b[0mp\u001b[0m\u001b[0;34m[\u001b[0m\u001b[0;34m'g_min'\u001b[0m\u001b[0;34m]\u001b[0m\u001b[0;34m)\u001b[0m\u001b[0;34m\u001b[0m\u001b[0;34m\u001b[0m\u001b[0m\n\u001b[0m\u001b[1;32m     30\u001b[0m \u001b[0;34m\u001b[0m\u001b[0m\n\u001b[1;32m     31\u001b[0m     \u001b[0;31m# Determine Consumption\u001b[0m\u001b[0;34m\u001b[0m\u001b[0;34m\u001b[0m\u001b[0;34m\u001b[0m\u001b[0m\n",
      "\u001b[0;31mKeyError\u001b[0m: 'g_max'"
     ]
    }
   ],
   "source": [
    "start = dict(z=1, xiz=1, c=1, n=1, b=1, w=1, k=.1, m=0.0, k_=0.0, \n",
    "             q=0.02, g=0.7, s=0.5, s0=0.0, mu=0.01, sig2=1e-5, news=0, c0=0, income=0)\n",
    "\n",
    "T = 1000000\n",
    "\n",
    "param_iter = np.linspace(0,1,5)\n",
    "n_iter = []\n",
    "\n",
    "for p_iter in param_iter:\n",
    "    print(p_iter)\n",
    "    params = {\n",
    "        # Noise Parameters\n",
    "        'etaZ':0.5, 'zbar':1.0,\n",
    "        # Empirical Parameters\n",
    "        'inflation':0.0015, 'interest':0.001, 'depreciation':0.1,\n",
    "        # Quasi-fixed parameters\n",
    "        's_min':0, 's_max':1, 'memory_1':0.98,'memory_2':.5, 'gamma':1.0, 'alpha':0.33, 'mu':7.32,\n",
    "        # Variable parameters\n",
    "        'sigmaZ':.8, 'q_shock':10, 's_theta': 10, 'ratio':p_iter, 'steady_state' : False}\n",
    "\n",
    "    np.random.seed(40)\n",
    "    view = [100, T]\n",
    "    df = model.simulate(start, params, step_func=step, t_end=T, err = 1e-20)\n",
    "    df = df.iloc[view[0]:view[1],:]\n",
    "    \n",
    "    n_iter.append(df.n)"
   ]
  },
  {
   "cell_type": "code",
   "execution_count": null,
   "metadata": {},
   "outputs": [],
   "source": [
    "from matplotlib import rc\n",
    "\n",
    "\n",
    "plt.rcParams[\n",
    "    'text.latex.preamble']\\\n",
    "    = r'\\usepackage[bitstream-charter, greekfamily=default]{mathdesign}'\n",
    "rc('text', usetex=True)\n",
    "rc('font', **{'family': 'serif'})\n",
    "plt.rcParams['axes.labelsize'] = 15\n",
    "plt.rcParams.update({'figure.figsize': (8, 6),\n",
    "                     'axes.titlesize': 16,\n",
    "                     'legend.fontsize': 14,\n",
    "                     'axes.labelsize': 16})\n",
    "fig, ax = plt.subplots(figsize= (5,5))\n",
    "\n",
    "\n",
    "\n",
    "for i in range(len(n_iter)):\n",
    "    col = np.asarray([171,219,227])/256/max(param_iter)\n",
    "    bins = np.logspace(np.log10(min(n_iter[i])),np.log10(max(n_iter[i])),50)\n",
    "    histo = np.histogram(n_iter[i] , bins = bins)\n",
    "    #histo_steady = np.histogram(df_steady.n , bins = bins)\n",
    "    ax.plot(histo[1][:-1], np.log(histo[0]), 'd',color = col*param_iter[i], label = r'$\\nu = $' + str(np.round(param_iter[i],1)))\n",
    "    #ax.plot(histo_steady[1][:-1], np.log(histo_steady[0]), 'o', label = r'Equilibrium'\n",
    "    ax.set_yscale('log')\n",
    "    ax.set_xlabel(r'$\\log$ labor', fontsize = 16)\n",
    "    ax.set_ylabel(r'$\\log$ frequency', fontsize = 16)\n",
    "    ax.set_xscale('log')\n",
    "    ax.set_title(r'$\\sigma_z = $'+str(params['sigmaZ']) + r',  $\\xi_q = $'+str(params['q_shock']))\n",
    "plt.legend()\n",
    "\n",
    "\n",
    "plt.savefig('n_ratio.eps', format = 'eps')\n",
    "plt.show()"
   ]
  },
  {
   "cell_type": "code",
   "execution_count": null,
   "metadata": {},
   "outputs": [],
   "source": [
    "max(n_iter[i])\n",
    "\n"
   ]
  },
  {
   "cell_type": "code",
   "execution_count": null,
   "metadata": {},
   "outputs": [],
   "source": [
    "fig, ax = plt.subplots(figsize = (6,6))\n",
    "ax.hist(df.news, bins=100, label='news', color='lightgray', alpha=0.5)\n",
    "ax.hist(df.s0, bins=100, label='Sharpe', alpha=0.5)\n",
    "ax.hist(df.c0, bins=100, label=r'$c_0$', alpha=0.5)\n",
    "ax.hist(df.s, bins=100, label=r'$s$', alpha=0.5)\n",
    "ax.set_yscale('log')\n",
    "ax.legend()\n",
    "plt.show()"
   ]
  },
  {
   "cell_type": "code",
   "execution_count": 591,
   "metadata": {},
   "outputs": [
    {
     "name": "stdout",
     "output_type": "stream",
     "text": [
      "10/400 20/400 30/400 40/400 50/400 60/400 70/400 80/400 90/400 100/400 110/400 120/400 "
     ]
    },
    {
     "name": "stderr",
     "output_type": "stream",
     "text": [
      "/Users/fedemoro/Desktop/DynamicDSGE/model.py:71: RuntimeWarning: invalid value encountered in double_scalars\n",
      "  rhs = rhs_1 * (r ** (-1 - mu)) * ((r ** mu) - rhs_2) ** (2 / mu + 1)\n",
      "/Users/fedemoro/anaconda3/lib/python3.7/site-packages/ipykernel_launcher.py:36: RuntimeWarning: invalid value encountered in double_scalars\n"
     ]
    },
    {
     "name": "stdout",
     "output_type": "stream",
     "text": [
      "130/400 140/400 150/400 160/400 170/400 180/400 190/400 200/400 210/400 220/400 230/400 240/400 250/400 260/400 270/400 280/400 290/400 300/400 310/400 320/400 330/400 340/400 350/400 360/400 370/400 380/400 390/400 400/400 "
     ]
    }
   ],
   "source": [
    "c0_iter = np.linspace(0.,1,20)\n",
    "ratio_iter = np.linspace(0,1,20)\n",
    "\n",
    "start = dict(z=1, xiz=1, c=1, n=1, b=1, w=1, k=.1, m=0.0, k_=0.0, \n",
    "             q=0.02, g=0.7, s=0.5, s0=0.0, mu=0.01, sig2=1e-5, news=0, c0=0, income=0)\n",
    "\n",
    "T = 15000 #***set T >> 20k ***\n",
    "n = len(c0_iter)*len(ratio_iter)\n",
    "np.random.seed(40)\n",
    "\n",
    "k_cr_iter = np.zeros((len(c0_iter), len(ratio_iter)))\n",
    "c_cr_iter = np.zeros((len(c0_iter), len(ratio_iter)))\n",
    "sharpe_iter = np.zeros((len(c0_iter), len(ratio_iter)))\n",
    "\n",
    "count = 0\n",
    "\n",
    "for i1, c0 in enumerate(c0_iter):\n",
    "    for i2, ratio in enumerate(ratio_iter):\n",
    "        \n",
    "        params = {\n",
    "            # Noise Parameters\n",
    "            'etaZ':0.5, 'zbar':1.0,\n",
    "            # Empirical Parameters\n",
    "            'inflation':0.0015, 'interest':0.001, 'depreciation':0.05,\n",
    "            # Quasi-fixed parameters\n",
    "            's_min':0, 's_max':1, 'g_min':0.05, 'g_max':.95, 'memory_1':0.98,'memory_2':.5, 'gamma':1.0, 'alpha':0.33, 'mu':7.32,\n",
    "            # Variable parameters\n",
    "            'sigmaZ':.4, 'q_shock':20, 'c0':c0, 'g_theta': 15,'s_theta':15, 'ratio':ratio, 'steady_state' : False}\n",
    "\n",
    "        df = model.simulate(start, params, step_func=step, t_end=T, err = 1e-20)\n",
    "\n",
    "        k_crises = 0.5 * (1.0 + np.sign(df.n - df.k))\n",
    "        k_cr_iter[i1,i2] =  sum(k_crises)/T\n",
    "        c_crises = 0.5 * (1.0 + np.sign( params['c0'] - df.c))\n",
    "        c_cr_iter[i1,i2] =  sum(c_crises)/T\n",
    "        sharpe_iter[i1,i2] =  sum(-df.s0)/T\n",
    "        count += 1\n",
    "        \n",
    "        if np.mod(count,10) == 0 : print('{}/{}'.format(count,n), end = ' ')"
   ]
  },
  {
   "cell_type": "code",
   "execution_count": 592,
   "metadata": {},
   "outputs": [
    {
     "data": {
      "image/png": "[encoded data removed]",
      "text/plain": [
       "<Figure size 936x432 with 2 Axes>"
      ]
     },
     "metadata": {
      "needs_background": "light"
     },
     "output_type": "display_data"
    }
   ],
   "source": [
    "from matplotlib import rc\n",
    "\n",
    "\n",
    "plt.rcParams[\n",
    "    'text.latex.preamble']\\\n",
    "    = r'\\usepackage[bitstream-charter, greekfamily=default]{mathdesign}'\n",
    "rc('text', usetex=True)\n",
    "rc('font', **{'family': 'serif'})\n",
    "plt.rcParams['axes.labelsize'] = 15\n",
    "plt.rcParams.update({'figure.figsize': (12.5,5),\n",
    "                     'axes.titlesize': 16,\n",
    "                     'legend.fontsize': 14,\n",
    "                     'axes.labelsize': 16})\n",
    "\n",
    "font = 24\n",
    "for i1, gth in enumerate(c0_iter):\n",
    "    for i2, sth in enumerate(ratio_iter): \n",
    "        if np.isnan(k_cr_iter[i1,i2]):\n",
    "            k_cr_iter[i1,i2] = 10\n",
    "        if np.isnan(c_cr_iter[i1,i2]):\n",
    "            c_cr_iter[i1,i2] = 10 \n",
    "        if c_cr_iter[i1,i2]== 0 :\n",
    "            c_cr_iter[i1,i2] = 0.00001 \n",
    "\n",
    "fig, ax = plt.subplots(1,2,sharey = 'row', figsize=(13,6))\n",
    "#col = np.asarray([0.001,.001,.001])\n",
    "\n",
    "set_max = np.max(-10*np.log10(c_cr_iter))\n",
    "\n",
    "x,y = c0_iter, ratio_iter\n",
    "CS = ax[0].contourf(x,y,np.log10(k_cr_iter.T), cmap = cm.RdBu, alpha = .8)#,levels=[-8,-6,-4,-2,0], colors=['r',[.8,0,0],[.6,0,0],[.4,0,0],'k'])\n",
    "\n",
    "CS = ax[1].contourf(x,y,np.log10(c_cr_iter.T), cmap = cm.RdBu, alpha = .8)#,levels=[-8,-6,-4,-2,0], colors=['r',[.8,0,0],[.6,0,0],[.4,0,0],'k'])\n",
    "\n",
    "#CS = ax[0].contourf(x,y,z,levels=np.linspace(z.min().min(), 0, level_n), cmap=cmap)\n",
    "#plt.colorbar(CS, ax=ax[0])\n",
    "#plt.colorbar(CS, ax=ax[1])\n",
    "\n",
    "#x,y,z = data['sharpe'].columns , np.log(data['sharpe'].index), data['sharpe']\n",
    "#SH = ax[1].contourf(x,y,z, levels=[0,.05,.1,.15,.2,.25,.3,.35,.4])\n",
    "#SH = ax[1].contourf(x,y,z, levels=np.linspace(z.min().min(), z.max().max(), level_n), cmap=cmap)\n",
    "#plt.colorbar(SH, ax=ax[1])\n",
    "\n",
    "#ax[1].clabel(SH, inline=1, fontsize=10)\n",
    "#ax[0].clabel(CS, inline=1, fontsize=10)\n",
    "\n",
    "ax[0].set_title(r'$\\log_{10}$ capital crises ', fontsize = font)\n",
    "ax[0].set_ylabel(r'$\\nu$', fontsize = font)\n",
    "ax[0].set_xlabel(r'$c_0$', fontsize = font)\n",
    "\n",
    "ax[1].set_title(r'$\\log_{10}$ capital/consumption crises', fontsize = font)\n",
    "ax[1].set_xlabel(r'$c_0$', fontsize = font)\n",
    "\n",
    "\n",
    "#fig.suptitle(r'$\\log$ capital $\\&$ consumption crises', fontsize= font -3)\n",
    "#a = ax[1].twinx()\n",
    "#a.set_yticks([])\n",
    "#a.set_ylabel('$\\sigma_z = $' + str(params['sigmaZ']) + r', $\\theta_s$ = '+ str(params['s_theta']), fontsize = 16)\n",
    "\n",
    "plt.savefig('/Users/fedemoro/Desktop/solow/feedback_c0_vs_ratio/ph_port_'+str(params['q_shock'])+'.eps', format = 'eps')\n",
    "\n",
    "\n",
    "path = '/Users/fedemoro/Desktop/solow/feedback_c0_vs_ratio/'\n",
    "\n",
    "save_sim_c_crises = open(path + '/c_crisis_log10.txt',\"w+\")\n",
    "save_sim_k_crises = open(path + '/k_crisis_log10.txt',\"w+\")\n",
    "for i in range(len(c0_iter)):\n",
    "    c_cr_write = \" \"\n",
    "    k_cr_write = \" \"\n",
    "    for wr in range(len(ratio_iter)):\n",
    "        c_cr_write += str(np.log10(c_cr_iter[i, wr])) + ' '\n",
    "        k_cr_write += str(np.log10(k_cr_iter[i, wr])) + ' '\n",
    "    save_sim_c_crises.write(c_cr_write + '\\n')\n",
    "    save_sim_k_crises.write(k_cr_write + '\\n')\n",
    "save_sim_c_crises.close()    \n",
    "save_sim_k_crises.close()    \n",
    "            "
   ]
  },
  {
   "cell_type": "code",
   "execution_count": null,
   "metadata": {},
   "outputs": [],
   "source": [
    "file = open('/Users/fedemoro/Desktop/DynamicDSGE/data_shock_v_ratio.dict', 'rb')\n",
    "data = pickle.load(file)\n",
    "file.close()\n",
    "\n",
    "data['proportion'].fillna('10', inplace=True)\n",
    "data['sharpe'].fillna('0', inplace=True)\n",
    "\n",
    "fig, ax = plt.subplots(1,2,sharey = 'row', figsize=(11,5))\n",
    "col = np.asarray([0.001,.001,.001])\n",
    "\n",
    "x,y,z = data['proportion'].columns, np.log(data['proportion'].index), np.log(data['proportion'].astype(float))\n",
    "#CS = ax[0].contourf(x,y,z,levels=[-8,-6,-4,-2,0], colors=['r',[.8,0,0],[.6,0,0],[.4,0,0],'k'])\n",
    "CS = ax[0].contourf(x,y,z,levels=np.linspace(z.min().min(), 0, level_n), cmap=cmap)\n",
    "plt.colorbar(CS, ax=ax[0])\n",
    "\n",
    "x,y,z = data['sharpe'].columns , np.log(data['sharpe'].index), data['sharpe']\n",
    "#SH = ax[1].contourf(x,y,z, levels=[0,.05,.1,.15,.2,.25,.3,.35,.4])\n",
    "SH = ax[1].contourf(x,y,z, levels=np.linspace(z.min().min(), z.max().max(), level_n), cmap=cmap)\n",
    "plt.colorbar(SH, ax=ax[1])\n",
    "\n",
    "#ax[1].clabel(SH, inline=1, fontsize=10)\n",
    "#ax[0].clabel(CS, inline=1, fontsize=10)\n",
    "\n",
    "ax[0].set_title(r'Crisis prob. $\\log$ frequency', fontsize = 16)\n",
    "ax[0].set_ylabel(r'$\\log$ $\\xi_q$', fontsize = 16)\n",
    "ax[0].set_xlabel(r'$\\nu$', fontsize = 16)\n",
    "\n",
    "ax[1].set_title(r'$\\langle\\mathcal{S}_t \\rangle$', fontsize = 16)\n",
    "ax[1].set_xlabel(r'$\\nu$', fontsize = 16)\n",
    "\n",
    "#a = ax[1].twinx()\n",
    "#a.set_yticks([])\n",
    "#a.set_ylabel('$\\sigma_z = $' + str(params['sigmaZ']) + r', $\\theta_s$ = '+ str(params['s_theta']), fontsize = 16)\n",
    "\n",
    "plt.savefig('fig_phase_port_ratiovssq.eps', format = 'eps')"
   ]
  },
  {
   "cell_type": "code",
   "execution_count": null,
   "metadata": {},
   "outputs": [],
   "source": [
    "level_n = 40\n",
    "cmap = 'hot'"
   ]
  },
  {
   "cell_type": "code",
   "execution_count": null,
   "metadata": {},
   "outputs": [],
   "source": [
    "file = open('/Users/fedemoro/Desktop/DynamicDSGE/data_shock_v_sigmaZ.dict', 'rb')\n",
    "data = pickle.load(file)\n",
    "file.close()\n",
    "\n",
    "data['proportion'].fillna('10', inplace=True)\n",
    "data['sharpe'].fillna('0', inplace=True)\n",
    "\n",
    "\n",
    "fig, ax = plt.subplots(1,2,sharey = 'row', figsize=(11,5))\n",
    "\n",
    "col = np.asarray([0.001,.001,.001])\n",
    "\n",
    "\n",
    "x,y,z = data['proportion'].columns, np.log(data['proportion'].index), np.log(data['proportion'].astype(float))\n",
    "#CS = ax[0].contourf(x,y,z,levels=[-8,-6,-4,-2,0], colors=['r',[.8,0,0],[.6,0,0],[.4,0,0],'k'])\n",
    "CS = ax[0].contourf(x,y,z,levels=np.linspace(z.min().min(), 0, level_n), cmap=cmap)\n",
    "plt.colorbar(CS, ax=ax[0])\n",
    "\n",
    "x,y,z = data['sharpe'].columns , np.log(data['sharpe'].index), data['sharpe']\n",
    "#SH = ax[1].contourf(x,y,z, levels=[0,.05,.1,.15,.2,.25,.3,.35,.4])\n",
    "SH = ax[1].contourf(x,y,z, levels=np.linspace(0, z.max().max(), level_n), cmap=cmap)\n",
    "plt.colorbar(SH, ax=ax[1])\n",
    "\n",
    "#ax[1].clabel(SH, inline=1, fontsize=10)\n",
    "#ax[0].clabel(CS, inline=1, fontsize=10)\n",
    "ax[0].set_title(r'Crisis prob. $\\log$ frequency', fontsize = 16)\n",
    "ax[0].set_ylabel(r'$\\log$ $\\xi_q$', fontsize = 16)\n",
    "ax[0].set_xlabel(r'$\\sigma_z$', fontsize = 16)\n",
    "#ax[0].set_xticks([0,.5,1,1.5,2])\n",
    "#ax[0].set_xticklabels(['0','0.5','1','1.5','2'])\n",
    "#ax[1].set_xticks([0,.5,1,1.5,2])\n",
    "#ax[1].set_xticklabels(['0','0.5','1','1.5','2'])\n",
    "ax[1].set_title(r'$\\langle\\mathcal{S}_t \\rangle$', fontsize = 16)\n",
    "#ax[1].set_ylabel(r'$\\log\\ q_{shock}$', fontsize = 16)\n",
    "ax[1].set_xlabel(r'$\\sigma_z$', fontsize = 16)\n",
    "#a = ax[1].twinx()\n",
    "#a.set_yticks([])\n",
    "#a.set_ylabel( '$\\nu = $' + str(params['ratio']) + r', $\\theta_s$ = '+ str(params['s_theta']), fontsize = 16)\n",
    "\n",
    "plt.savefig('fig_phase_port_szvssq.eps', format = 'eps')"
   ]
  },
  {
   "cell_type": "code",
   "execution_count": null,
   "metadata": {},
   "outputs": [],
   "source": [
    "file = open('data_sigmaZ_v_ratio.dict', 'rb')\n",
    "data = pickle.load(file)\n",
    "file.close()\n",
    "\n",
    "data['proportion'].fillna('10', inplace=True)\n",
    "data['sharpe'].fillna('0', inplace=True)\n",
    "\n",
    "\n",
    "fig, ax = plt.subplots(1,2,sharey = 'row', figsize=(11,5))\n",
    "\n",
    "col = np.asarray([0.001,.001,.001])\n",
    "\n",
    "\n",
    "x,y,z = data['proportion'].columns, data['proportion'].index, np.log(data['proportion'].astype(float))\n",
    "#CS = ax[0].contourf(x,y,z,levels=[-8,-6,-4,-2,0], colors=['r',[.8,0,0],[.6,0,0],[.4,0,0],'k'])\n",
    "CS = ax[0].contourf(x,y,z,levels=np.linspace(z.min().min(), 0, level_n), cmap=cmap)\n",
    "plt.colorbar(CS, ax=ax[0])\n",
    "\n",
    "x,y,z = data['sharpe'].columns , data['sharpe'].index, data['sharpe']\n",
    "#SH = ax[1].contourf(x,y,z, levels=[0,.05,.1,.15,.2,.25,.3,.35,.4])\n",
    "SH = ax[1].contourf(x,y,z, levels=np.linspace(0, z.max().max(), level_n), cmap=cmap)\n",
    "plt.colorbar(SH, ax=ax[1])\n",
    "\n",
    "#ax[1].clabel(SH, inline=1, fontsize=10)\n",
    "#ax[0].clabel(CS, inline=1, fontsize=10)\n",
    "ax[0].set_title(r'Crisis prob. $\\log$ frequency', fontsize = 16)\n",
    "ax[0].set_ylabel(r'$\\sigma_Z$', fontsize = 16)\n",
    "ax[0].set_xlabel(r'$\\nu$', fontsize = 16)\n",
    "#ax[0].set_xticks([0,.5,1,1.5,2])\n",
    "#ax[0].set_xticklabels(['0','0.5','1','1.5','2'])\n",
    "#ax[1].set_xticks([0,.5,1,1.5,2])\n",
    "#ax[1].set_xticklabels(['0','0.5','1','1.5','2'])\n",
    "ax[1].set_title(r'$\\langle\\mathcal{S}_t \\rangle$', fontsize = 16)\n",
    "#ax[1].set_ylabel(r'$\\log\\ q_{shock}$', fontsize = 16)\n",
    "ax[1].set_xlabel(r'$\\nu$', fontsize = 16)\n",
    "#a = ax[1].twinx()\n",
    "#a.set_yticks([])\n",
    "#a.set_ylabel( '$\\nu = $' + str(params['ratio']) + r', $\\theta_s$ = '+ str(params['s_theta']), fontsize = 16)\n",
    "\n",
    "plt.savefig('fig_phase_port_szvsratio.eps', format = 'eps')"
   ]
  },
  {
   "cell_type": "code",
   "execution_count": null,
   "metadata": {},
   "outputs": [],
   "source": [
    "file = open('data_shock_v_ratio.dict', 'rb')\n",
    "data = pickle.load(file)\n",
    "file.close()"
   ]
  },
  {
   "cell_type": "code",
   "execution_count": 283,
   "metadata": {},
   "outputs": [],
   "source": [
    "t1 = [0,1,2,3,4]\n",
    "t2 = [0,1,2,3,4]\n",
    "\n",
    "test  = np.zeros((len(t1),len(t2)))\n",
    "\n",
    "for i1, tt1 in enumerate(t1):\n",
    "    for i2, tt2 in enumerate(t2): \n",
    "        test[i1,i2] = tt1\n",
    "        \n",
    "        "
   ]
  },
  {
   "cell_type": "code",
   "execution_count": 295,
   "metadata": {},
   "outputs": [
    {
     "data": {
      "text/plain": [
       "array([[False, False, False, False, False, False, False, False, False,\n",
       "        False, False, False, False, False, False],\n",
       "       [False, False, False, False, False, False, False, False, False,\n",
       "        False, False, False, False, False, False],\n",
       "       [False, False, False, False, False, False, False, False, False,\n",
       "        False, False, False, False, False, False],\n",
       "       [False, False, False, False, False, False, False, False, False,\n",
       "        False, False, False, False, False, False],\n",
       "       [False, False, False, False, False, False, False, False, False,\n",
       "        False, False, False, False, False, False],\n",
       "       [False, False, False, False, False, False, False, False, False,\n",
       "        False, False, False, False, False, False],\n",
       "       [False, False, False, False, False, False, False, False, False,\n",
       "        False, False, False, False, False, False],\n",
       "       [False, False, False, False, False, False, False, False, False,\n",
       "        False, False, False, False, False, False],\n",
       "       [False, False, False, False, False, False, False, False, False,\n",
       "        False, False, False, False, False, False],\n",
       "       [False, False, False, False, False, False, False, False, False,\n",
       "        False, False, False, False, False, False],\n",
       "       [False, False, False, False, False, False, False, False, False,\n",
       "        False, False, False, False, False, False],\n",
       "       [False, False, False, False, False, False, False, False, False,\n",
       "        False, False, False, False, False, False],\n",
       "       [False, False, False, False, False, False, False, False, False,\n",
       "        False, False, False, False, False, False],\n",
       "       [False, False, False, False, False, False, False, False, False,\n",
       "        False, False, False, False, False, False],\n",
       "       [False, False, False, False, False, False, False, False, False,\n",
       "        False, False, False, False, False, False]])"
      ]
     },
     "execution_count": 295,
     "metadata": {},
     "output_type": "execute_result"
    }
   ],
   "source": [
    "c_cr_iter > 1"
   ]
  },
  {
   "cell_type": "code",
   "execution_count": 382,
   "metadata": {},
   "outputs": [
    {
     "ename": "TypeError",
     "evalue": "__call__() takes from 1 to 2 positional arguments but 3 were given",
     "output_type": "error",
     "traceback": [
      "\u001b[0;31m---------------------------------------------------------------------------\u001b[0m",
      "\u001b[0;31mTypeError\u001b[0m                                 Traceback (most recent call last)",
      "\u001b[0;32m<ipython-input-382-fc1be58757b0>\u001b[0m in \u001b[0;36m<module>\u001b[0;34m()\u001b[0m\n\u001b[0;32m----> 1\u001b[0;31m \u001b[0mdf\u001b[0m\u001b[0;34m.\u001b[0m\u001b[0mn\u001b[0m\u001b[0;34m.\u001b[0m\u001b[0miloc\u001b[0m\u001b[0;34m(\u001b[0m\u001b[0;36m0\u001b[0m\u001b[0;34m,\u001b[0m\u001b[0;36m100\u001b[0m\u001b[0;34m)\u001b[0m\u001b[0;34m\u001b[0m\u001b[0;34m\u001b[0m\u001b[0m\n\u001b[0m",
      "\u001b[0;31mTypeError\u001b[0m: __call__() takes from 1 to 2 positional arguments but 3 were given"
     ]
    }
   ],
   "source": [
    "df.n[]"
   ]
  },
  {
   "cell_type": "code",
   "execution_count": 513,
   "metadata": {},
   "outputs": [
    {
     "data": {
      "text/plain": [
       "array([[5.00000000e+01, 5.00000000e+01, 5.00000000e+01, 5.00000000e+01,\n",
       "        5.00000000e+01, 5.00000000e+01, 5.00000000e+01, 5.00000000e+01,\n",
       "        5.00000000e+01, 5.00000000e+01, 5.00000000e+01, 5.00000000e+01,\n",
       "        5.00000000e+01, 5.00000000e+01, 5.00000000e+01, 5.00000000e+01,\n",
       "        5.00000000e+01, 5.00000000e+01, 5.00000000e+01, 5.00000000e+01],\n",
       "       [5.00000000e+01, 5.00000000e+01, 5.00000000e+01, 5.00000000e+01,\n",
       "        5.00000000e+01, 5.00000000e+01, 5.00000000e+01, 5.00000000e+01,\n",
       "        5.00000000e+01, 5.00000000e+01, 5.00000000e+01, 5.00000000e+01,\n",
       "        5.00000000e+01, 5.00000000e+01, 5.00000000e+01, 5.00000000e+01,\n",
       "        5.00000000e+01, 5.00000000e+01, 5.00000000e+01, 5.00000000e+01],\n",
       "       [5.00000000e+01, 5.00000000e+01, 5.00000000e+01, 5.00000000e+01,\n",
       "        5.00000000e+01, 5.00000000e+01, 5.00000000e+01, 5.00000000e+01,\n",
       "        5.00000000e+01, 5.00000000e+01, 5.00000000e+01, 5.00000000e+01,\n",
       "        5.00000000e+01, 5.00000000e+01, 5.00000000e+01, 5.00000000e+01,\n",
       "        5.00000000e+01, 5.00000000e+01, 5.00000000e+01, 5.00000000e+01],\n",
       "       [5.00000000e+01, 5.00000000e+01, 5.00000000e+01, 4.39794001e+01,\n",
       "        5.00000000e+01, 5.00000000e+01, 5.00000000e+01, 5.00000000e+01,\n",
       "        5.00000000e+01, 5.00000000e+01, 5.00000000e+01, 4.39794001e+01,\n",
       "        5.00000000e+01, 5.00000000e+01, 5.00000000e+01, 5.00000000e+01,\n",
       "        5.00000000e+01, 5.00000000e+01, 5.00000000e+01, 5.00000000e+01],\n",
       "       [5.00000000e+01, 5.00000000e+01, 5.00000000e+01, 5.00000000e+01,\n",
       "        5.00000000e+01, 5.00000000e+01, 5.00000000e+01, 5.00000000e+01,\n",
       "        5.00000000e+01, 4.09691001e+01, 4.39794001e+01, 3.92081875e+01,\n",
       "        4.39794001e+01, 4.39794001e+01, 5.00000000e+01, 4.09691001e+01,\n",
       "        5.00000000e+01, 5.00000000e+01, 4.39794001e+01, 3.92081875e+01],\n",
       "       [3.55284197e+01, 3.79588002e+01, 3.79588002e+01, 3.69897000e+01,\n",
       "        3.44369750e+01, 4.09691001e+01, 3.55284197e+01, 3.79588002e+01,\n",
       "        3.79588002e+01, 3.61978876e+01, 4.09691001e+01, 3.55284197e+01,\n",
       "        3.61978876e+01, 4.09691001e+01, 3.92081875e+01, 3.79588002e+01,\n",
       "        3.55284197e+01, 3.39794001e+01, 4.39794001e+01, 4.09691001e+01],\n",
       "       [3.31875876e+01, 3.39794001e+01, 3.35654732e+01, 3.22184875e+01,\n",
       "        3.22184875e+01, 3.09691001e+01, 3.16749109e+01, 3.19382003e+01,\n",
       "        3.28399666e+01, 3.16749109e+01, 3.05551733e+01, 3.31875876e+01,\n",
       "        3.25181197e+01, 3.55284197e+01, 3.31875876e+01, 3.16749109e+01,\n",
       "        3.44369750e+01, 3.35654732e+01, 3.31875876e+01, 3.49485002e+01],\n",
       "       [2.74472749e+01, 2.76447155e+01, 2.78515615e+01, 2.87942607e+01,\n",
       "        2.77469072e+01, 2.65757732e+01, 2.74472749e+01, 2.63451202e+01,\n",
       "        2.76447155e+01, 2.67366414e+01, 2.69897000e+01, 2.78515615e+01,\n",
       "        2.80687540e+01, 2.90657831e+01, 2.70774393e+01, 2.65757732e+01,\n",
       "        2.61978876e+01, 2.78515615e+01, 2.82973828e+01, 2.80687540e+01],\n",
       "       [2.27736608e+01, 2.42021640e+01, 2.32605800e+01, 2.22767829e+01,\n",
       "        2.42481216e+01, 2.39794001e+01, 2.30103000e+01, 2.30803490e+01,\n",
       "        2.44855000e+01, 2.34103516e+01, 2.30103000e+01, 2.51712642e+01,\n",
       "        2.39794001e+01, 2.25806092e+01, 2.24872090e+01, 2.43889862e+01,\n",
       "        2.36051351e+01, 2.32605800e+01, 2.28399666e+01, 2.42481216e+01],\n",
       "       [1.99826629e+01, 1.86264589e+01, 1.97142875e+01, 1.92811799e+01,\n",
       "        2.07779372e+01, 1.92959268e+01, 1.98800689e+01, 2.04000516e+01,\n",
       "        1.98800689e+01, 1.97963872e+01, 1.95078198e+01, 1.93854752e+01,\n",
       "        1.99481949e+01, 1.92811799e+01, 2.01772877e+01, 1.98800689e+01,\n",
       "        1.94157398e+01, 1.86012091e+01, 1.92372374e+01, 1.95546024e+01],\n",
       "       [1.64359167e+01, 1.58703573e+01, 1.58435902e+01, 1.58103617e+01,\n",
       "        1.72584215e+01, 1.65600093e+01, 1.66474274e+01, 1.60835930e+01,\n",
       "        1.63301702e+01, 1.62123882e+01, 1.63676420e+01, 1.66314018e+01,\n",
       "        1.69207630e+01, 1.69378949e+01, 1.59243915e+01, 1.67284549e+01,\n",
       "        1.59448289e+01, 1.58838029e+01, 1.61332272e+01, 1.71942163e+01],\n",
       "       [1.20929271e+01, 1.26344415e+01, 1.22650611e+01, 1.24995469e+01,\n",
       "        1.30980392e+01, 1.33498217e+01, 1.27934464e+01, 1.22797183e+01,\n",
       "        1.27769521e+01, 1.34332695e+01, 1.29005198e+01, 1.27148390e+01,\n",
       "        1.29140915e+01, 1.27868412e+01, 1.28299559e+01, 1.26632134e+01,\n",
       "        1.31336373e+01, 1.30768196e+01, 1.30486870e+01, 1.31623274e+01],\n",
       "       [1.12720365e+00, 4.68572179e+00, 8.99353800e+00, 9.17645549e+00,\n",
       "        1.00771165e+01, 1.06449273e+01, 9.60189446e+00, 1.00069543e+01,\n",
       "        9.73875483e+00, 9.91740585e+00, 9.80468315e+00, 9.94819487e+00,\n",
       "        1.02264227e+01, 1.01037223e+01, 9.80136286e+00, 9.96367163e+00,\n",
       "        1.00366348e+01, 1.03338901e+01, 1.01144104e+01, 9.60030973e+00],\n",
       "       [1.73721267e-04, 1.73721267e-04, 4.91658853e+00, 6.32644079e+00,\n",
       "        6.60667832e+00, 6.96113078e+00, 7.08542346e+00, 7.29833771e+00,\n",
       "        7.18058067e+00, 7.32828272e+00, 7.47049931e+00, 7.06858517e+00,\n",
       "        7.49384853e+00, 7.53994096e+00, 7.08098600e+00, 7.19148574e+00,\n",
       "        7.12825540e+00, 6.99926505e+00, 7.51536282e+00, 7.29460906e+00],\n",
       "       [1.72946895e-01, 5.78846369e-02, 2.61726943e+00, 3.56863289e+00,\n",
       "        3.89765825e+00, 4.20765333e+00, 4.71391784e+00, 4.95719480e+00,\n",
       "        4.85664798e+00, 5.20972041e+00, 4.86835691e+00, 4.91443349e+00,\n",
       "        5.27711730e+00, 4.88223555e+00, 4.93494968e+00, 4.85239800e+00,\n",
       "        5.06569834e+00, 5.01193393e+00, 4.92900081e+00, 5.16042035e+00],\n",
       "       [1.09580339e-02, 1.73721267e-04, 8.33776305e-01, 1.64715382e+00,\n",
       "        2.01349355e+00, 2.04898937e+00, 2.41693818e+00, 2.92361705e+00,\n",
       "        3.01273269e+00, 3.04308232e+00, 3.25837230e+00, 2.85569643e+00,\n",
       "        2.97810805e+00, 3.17854924e+00, 2.95437699e+00, 3.07294051e+00,\n",
       "        3.29123579e+00, 3.12542387e+00, 2.97810805e+00, 3.38300870e+00],\n",
       "       [1.73721267e-04, 1.73721267e-04, 2.60228690e-01, 6.40093343e-01,\n",
       "        8.98880874e-01, 1.25031396e+00, 1.18387128e+00, 1.50900128e+00,\n",
       "        1.67210164e+00, 1.75613798e+00, 2.03953246e+00, 1.69513983e+00,\n",
       "        1.78145982e+00, 1.82249582e+00, 2.03370169e+00, 1.89471778e+00,\n",
       "        1.76004409e+00, 1.89068870e+00, 1.86712643e+00, 1.83705660e+00],\n",
       "       [1.73721267e-04, 1.73721267e-04, 1.01054363e-01, 2.94485793e-01,\n",
       "        4.44661798e-01, 5.12350462e-01, 5.96229898e-01, 6.56025592e-01,\n",
       "        9.69317283e-01, 9.89123766e-01, 9.26961512e-01, 9.71923962e-01,\n",
       "        1.11932887e+00, 1.11910408e+00, 1.19529407e+00, 1.09601339e+00,\n",
       "        1.17111331e+00, 1.24406329e+00, 1.11685688e+00, 1.07348966e+00],\n",
       "       [1.73721267e-04, 1.73721267e-04, 5.71804993e-02, 1.04434017e-01,\n",
       "        1.72585359e-01, 2.32466401e-01, 2.69091092e-01, 3.33890133e-01,\n",
       "        4.01194647e-01, 4.74981521e-01, 5.46693080e-01, 5.77736138e-01,\n",
       "        6.57844373e-01, 5.87470346e-01, 5.74760635e-01, 6.28834892e-01,\n",
       "        6.66139581e-01, 6.22414572e-01, 6.47951326e-01, 6.47749661e-01],\n",
       "       [1.73721267e-04, 1.73721267e-04, 2.08963265e-02, 7.99466640e-02,\n",
       "        9.94543913e-02, 1.14767156e-01, 1.30492121e-01, 2.08888712e-01,\n",
       "        1.97238589e-01, 1.85438335e-01, 3.54952347e-01, 2.70200165e-01,\n",
       "        3.21900286e-01, 3.42152397e-01, 3.06586510e-01, 3.68357383e-01,\n",
       "        3.52690789e-01, 2.74084152e-01, 3.28265770e-01, 3.19655870e-01]])"
      ]
     },
     "execution_count": 513,
     "metadata": {},
     "output_type": "execute_result"
    }
   ],
   "source": [
    "-10*np.log10(c_cr_iter)"
   ]
  },
  {
   "cell_type": "code",
   "execution_count": 514,
   "metadata": {},
   "outputs": [
    {
     "data": {
      "text/plain": [
       "50.0"
      ]
     },
     "execution_count": 514,
     "metadata": {},
     "output_type": "execute_result"
    }
   ],
   "source": [
    "np.max(-10*np.log10(c_cr_iter))"
   ]
  },
  {
   "cell_type": "code",
   "execution_count": null,
   "metadata": {},
   "outputs": [],
   "source": []
  }
 ],
 "metadata": {
  "kernelspec": {
   "display_name": "Python 3",
   "language": "python",
   "name": "python3"
  },
  "language_info": {
   "codemirror_mode": {
    "name": "ipython",
    "version": 3
   },
   "file_extension": ".py",
   "mimetype": "text/x-python",
   "name": "python",
   "nbconvert_exporter": "python",
   "pygments_lexer": "ipython3",
   "version": "3.7.3"
  }
 },
 "nbformat": 4,
 "nbformat_minor": 4
}
