{
 "cells": [
  {
   "cell_type": "markdown",
   "metadata": {},
   "source": [
    "## DSGE w. Feedback - Numerical Simulations"
   ]
  },
  {
   "cell_type": "markdown",
   "metadata": {},
   "source": [
    "### Imports"
   ]
  },
  {
   "cell_type": "code",
   "execution_count": 1,
   "metadata": {
    "scrolled": true
   },
   "outputs": [
    {
     "name": "stdout",
     "output_type": "stream",
     "text": [
      "Modules to reload:\n",
      "all-except-skipped\n",
      "\n",
      "Modules to skip:\n",
      "\n"
     ]
    }
   ],
   "source": [
    "%load_ext autoreload\n",
    "%autoreload 2\n",
    "%aimport"
   ]
  },
  {
   "cell_type": "code",
   "execution_count": 2,
   "metadata": {
    "scrolled": true
   },
   "outputs": [],
   "source": [
    "%matplotlib notebook"
   ]
  },
  {
   "cell_type": "code",
   "execution_count": 3,
   "metadata": {},
   "outputs": [],
   "source": [
    "import numpy as np\n",
    "import pandas as pd\n",
    "import matplotlib.pyplot as plt\n",
    "import matplotlib as mpl\n",
    "import ipywidgets as widgets"
   ]
  },
  {
   "cell_type": "markdown",
   "metadata": {},
   "source": [
    "## Interactive Graphing"
   ]
  },
  {
   "cell_type": "code",
   "execution_count": 10,
   "metadata": {},
   "outputs": [],
   "source": [
    "def timeseries(ax, df, log=True, title=''):\n",
    "    \n",
    "    if isinstance(df, pd.Series): \n",
    "        df = pd.DataFrame(df)\n",
    "\n",
    "    for c in df.columns:\n",
    "        ax.plot(df.loc[:,c], label=c)\n",
    "    \n",
    "    if df.shape[1]>1: \n",
    "        ax.legend()\n",
    "    \n",
    "    t = ' '.join(df.columns.to_list())\n",
    "    if log:\n",
    "        ax.set_yscale('log')\n",
    "        t = 'log '+t\n",
    "    \n",
    "    if title=='':\n",
    "        ax.set_title(t)\n",
    "    else:\n",
    "        ax.set_title(title)"
   ]
  },
  {
   "cell_type": "code",
   "execution_count": 30,
   "metadata": {
    "jupyter": {
     "source_hidden": true
    }
   },
   "outputs": [],
   "source": [
    "def graph_simulation(df, params, start=0, stop=None):\n",
    "    \n",
    "    plt.close()\n",
    "    stop = stop if stop is not None else df.shape[1]-1\n",
    "    df = df.loc[start:stop,:]\n",
    "    \n",
    "    groups = {\n",
    "        'ln Consumption & Bonds' : [df.loc[:,['c','b']], True],\n",
    "        'Utility of Bonds' : [df.ft, False],\n",
    "        'ln Labour' : [df.n, True],\n",
    "        'ln Wages' : [df.w, True],\n",
    "        'ln Income' : [df.income, True],\n",
    "        'Investment %' : [df.inv, False],\n",
    "        'ln Capital' : [df.k, True],\n",
    "        'ln Returns' : [df.q, True],\n",
    "        'News' : [df.news, False],\n",
    "        'ln B/C Ratio' : [df.bc, True],\n",
    "    }\n",
    "    \n",
    "    fig, ax = plt.subplots(ncols=1, nrows=len(list(groups.keys())))\n",
    "    fig.set_size_inches(8, df.shape[1])\n",
    "    axs = {}\n",
    "    for i, k in enumerate(groups.keys()):\n",
    "        timeseries(ax[i], *groups[k], k)\n",
    "        axs[k] = ax[i]\n",
    "    \n",
    "    axs['ln Returns'].axhline(params['interest'], color='red', linewidth=0.5)\n",
    "    \n",
    "    plt.tight_layout()\n",
    "    plt.show()\n",
    "    \n",
    "    \"\"\"\n",
    "    lines, l_order = [], []\n",
    "        \n",
    "    # Household\n",
    "    l, = axs[0,0].plot(df.c[start:stop], label='c')\n",
    "    lines.append(l)\n",
    "    l_order.append('c')\n",
    "    l, = axs[0,0].plot(df.b[start:stop], label='b')\n",
    "    lines.append(l)\n",
    "    l_order.append('b')\n",
    "    axs[0,0].set_title('Log Consumption & Bonds')\n",
    "    axs[0,0].set_yscale('log')\n",
    "    axs[0,0].legend()\n",
    "    l, = axs[0,1].plot(df.ft[start:stop])\n",
    "    lines.append(l)\n",
    "    axs[0,1].set_title('Utility of Bonds')\n",
    "    \n",
    "    # Labour Market\n",
    "    l, = axs[1,0].plot(df.n[start:stop])\n",
    "    lines.append(l)\n",
    "    l_order.append('n')\n",
    "    axs[1,0].set_title('Log Labour')\n",
    "    axs[1,0].set_yscale('log')\n",
    "    l, = axs[1,1].plot(df.w[start:stop])\n",
    "    lines.append(l)\n",
    "    l_order.append('w')\n",
    "    axs[1,1].set_title('Log Wages')\n",
    "    axs[1,1].set_yscale('log')\n",
    "    \n",
    "    # Investment Rate\n",
    "    l, = axs[2,0].plot(df.income[start:stop])\n",
    "    lines.append(l)\n",
    "    l_order.append('income')\n",
    "    axs[2,0].set_title('Log Income')\n",
    "    axs[2,0].set_yscale('log')\n",
    "    l, = axs[2,1].plot(df.inv[start:stop], label = r'Investment [%]')\n",
    "    lines.append(l)\n",
    "    l_order.append('inv')\n",
    "    axs[2,1].set_title('Investment [% of income]')\n",
    "    \n",
    "    # Capital Market\n",
    "    l, = axs[3,0].plot(df.k[start:stop], label='k')\n",
    "    lines.append(l)\n",
    "    l_order.append('k')\n",
    "    axs[3,0].set_title('Log Capital')\n",
    "    axs[3,0].set_yscale('log')\n",
    "    #axs[3,0].plot(investment, color='red', label='inv')\n",
    "    axs[3,0].legend(ncol=2)\n",
    "    \n",
    "    l, = axs[3,1].plot(df.q[start:stop], label = 'Return to Capital')\n",
    "    lines.append(l)\n",
    "    l_order.append('q')\n",
    "    axs[3,1].set_title('Log Return to Capital')\n",
    "    axs[3,1].axhline(params['interest'], color='red', linewidth=0.5, label='Interests rate')\n",
    "    axs[3,1].set_yscale('log')\n",
    "    axs[3,1].legend()\n",
    "    \n",
    "    # News\n",
    "    l, = axs[4,0].plot(df.news[start:stop])\n",
    "    lines.append(l)\n",
    "    l_order.append('news')\n",
    "    axs[4,0].set_title('News')\n",
    "    \n",
    "    l, = axs[4,1].plot(df.bc[start:stop])\n",
    "    lines.append(l)\n",
    "    l_order.append('bc')\n",
    "    axs[4,1].axhline(0, color='red')\n",
    "    axs[4,1].set_yscale('log')\n",
    "    axs[4,1].set_title('Bond/Consumption Ratio')\n",
    "    \n",
    "    fig.tight_layout()\n",
    "    plt.show()\n",
    "    return fig, axs, lines, l_order\n",
    "    \"\"\""
   ]
  },
  {
   "cell_type": "markdown",
   "metadata": {},
   "source": [
    "## Simulation mechanics"
   ]
  },
  {
   "cell_type": "code",
   "execution_count": 14,
   "metadata": {},
   "outputs": [],
   "source": [
    "def lhs(cons: float, z: float, k:float, alpha: float, gamma: float = 1, r: float = 0) -> float:\n",
    "    pt1 = 2 * gamma * (1+r) / (1 - alpha)\n",
    "    pt2 = (cons / (z * k**alpha)) ** (2 / (1-alpha))\n",
    "    return pt1 * pt2\n",
    "\n",
    "def rhs(cons: float, gti: float, ft: float) -> float:\n",
    "    return 1 - (ft * cons) / (gti - cons)\n",
    "\n",
    "def bisection_generalCB(z:float, income:float, k:float, gt_:float, ft_:float, p:dict, err:float=1e-5)->float:\n",
    "    \n",
    "    # Define the left and right hand sides of the equations\n",
    "    diff = lambda c: rhs(c, gt_ * income, ft_) - lhs(c, z, k, p['alpha'], p['gamma'], p['interest'])\n",
    "\n",
    "    # Initial guess at the next options for\n",
    "    max_val = gt_ * income / (1+ft_)\n",
    "    x = [0, max_val / 2, max_val]\n",
    "    abs_lst = [abs(diff(i)) for i in x[:2]]\n",
    "\n",
    "    while min(abs_lst) >= err:\n",
    "        test = np.sign([diff(i) for i in x])\n",
    "\n",
    "        if test[0] == test[1]:\n",
    "            x = [x[1], (x[1] + x[2]) / 2, x[2]]\n",
    "        elif test[1] == test[2]:\n",
    "            x = [x[0], (x[0] + x[1]) / 2, x[1]]\n",
    "\n",
    "        abs_lst = [abs(diff(i)) for i in x[:2]]\n",
    "\n",
    "    return x[np.argmin(abs_lst)]"
   ]
  },
  {
   "cell_type": "code",
   "execution_count": 15,
   "metadata": {},
   "outputs": [],
   "source": [
    "def step(t: float, x: np.ndarray, p: dict):\n",
    "    # Starting variables\n",
    "    z_, c_, n_, b_, w_, k_, q_, gt_, ft_, news_, inc_, xiz_, xin_ = x\n",
    "        \n",
    "    # Random technology process\n",
    "    rand = np.random.normal(0, p['sigmaZ'])\n",
    "    xiz = p['etaZ'] * xiz_ + np.sqrt(1 - p['etaZ'] ** 2) * rand\n",
    "    z = p['zbar'] * np.exp(xiz)\n",
    "        \n",
    "    # Income and Investment\n",
    "    income = (w_ * n_ + b_  + q_ * k_) / (1 + p['inflation'])\n",
    "    \n",
    "    # Capital Markets\n",
    "    k = (1 - p['depreciation']) * k_ + income * (1 - gt_)\n",
    "\n",
    "    # Household decision\n",
    "    c = bisection_generalCB(z, income, k, gt_, ft_, p)\n",
    "    n = (c ** 2) / (4 * k * (z ** 2))\n",
    "    b = (gt_ * income - c) * (1 + p['interest'])\n",
    "    \n",
    "    # Firm decisions\n",
    "    w = (1-p['alpha']) * z * (k / n) ** p['alpha']\n",
    "    q = p['alpha'] * z * (n / k) ** (1 - p['alpha'])\n",
    "    #CES\n",
    "    #temp = (p['alpha'] * k ** p['rho'] + (1 - p['alpha']) * n ** p['rho']) ** ((1 / p['rho']) - 1)\n",
    "    #w = (1 - p['alpha']) * z * temp * (n ** (p['rho'] - 1))\n",
    "    #q = p['alpha'] * z * temp * (k ** (p['rho'] - 1))\n",
    "\n",
    "    # News\n",
    "    xin = np.random.normal(0, p['sigmaN'])\n",
    "    info = p['n_cons']*(c/c_ - 1)\n",
    "    news = np.tanh(p['n_theta'] * (p['n_persistence'] * news_ + (1 - p['n_persistence']) * info + xin))\n",
    "    \n",
    "    if t > 300 and t < 400:\n",
    "        if p['shock'] == -1:\n",
    "            news = -1\n",
    "        elif p['shock'] == 1:\n",
    "            news = 1\n",
    "    \n",
    "    # Household modifiers\n",
    "    gt = 0.5 * (p['g_max'] + p['g_min'] - news * (p['g_max'] - p['g_min']))\n",
    "    ft = 0.5 * (p['f_max'] + p['f_min'] - news * (p['f_max'] - p['f_min']))\n",
    "    \n",
    "    return z, c, n, b, w, k, q, gt, ft, news, income, xiz, xin"
   ]
  },
  {
   "cell_type": "code",
   "execution_count": 16,
   "metadata": {},
   "outputs": [],
   "source": [
    "def simulate(start: np.ndarray, p: dict, t_end: float = 1e3):\n",
    "    x = np.empty((int(t_end), len(start)))\n",
    "    x[0, :] = start\n",
    "    for t in range(1, int(t_end)):\n",
    "        x[t, :] = step(t, x[t - 1, :], p)\n",
    "    cols = ['z', 'c', 'n', 'b', 'w', 'k', 'q', 'gt', 'ft', 'news', 'income', 'xiz', 'xin']\n",
    "    df = pd.DataFrame(x, columns=cols)\n",
    "    df.loc[:,'inv'] = 100*(1-df.loc[:,'gt'])\n",
    "    df.loc[:,'bc'] = df.b / df.c\n",
    "    return df"
   ]
  },
  {
   "cell_type": "code",
   "execution_count": 17,
   "metadata": {},
   "outputs": [],
   "source": [
    "def sim_and_plot(etaZ=0.1, sigmaZ=0.8, zbar=1, sigmaN=0.2, inflation=0.01, interest=0.01, \n",
    "                 depreciation=0.1,g_min=0.95, g_max=1-1e-4,f_min=0.0, f_max=1000, n_persistence=0.8, \n",
    "                 n_theta=1.6, n_cons=0.1,gamma=1, alpha=0.5, shock=0):\n",
    "\n",
    "    df = simulate(start, locals(), T)\n",
    "    graph_simulation(df, locals(), start=view[0], stop=view[1])\n",
    "    plt.show()"
   ]
  },
  {
   "cell_type": "markdown",
   "metadata": {},
   "source": [
    "----\n",
    "## Interactive Analysis"
   ]
  },
  {
   "cell_type": "code",
   "execution_count": 31,
   "metadata": {},
   "outputs": [
    {
     "data": {
      "application/vnd.jupyter.widget-view+json": {
       "model_id": "92b19f549f1245a98a4c0c4e7f72c59b",
       "version_major": 2,
       "version_minor": 0
      },
      "text/plain": [
       "AppLayout(children=(VBox(children=(FloatSlider(value=0.2, continuous_update=False, description='$\\\\eta_z$', ma…"
      ]
     },
     "metadata": {},
     "output_type": "display_data"
    }
   ],
   "source": [
    "param_limits = dict(\n",
    "    etaZ=dict(value=0.2, min=0, max=1, step=0.1, description=r'$\\eta_z$'),\n",
    "    sigmaZ=dict(value=0.8, min=0, max=2, step=0.1, description=r'$\\sigma_z$'),\n",
    "    zbar=dict(value=1.0, min=0, max=10, step=1.0, description=r'$\\bar{z}$'),\n",
    "    sigmaN=dict(value=0.2, min=0, max=1, step=0.1, description=r'$\\sigma_\\xi$'),\n",
    "    inflation=dict(value=0.01, min=0, max=0.1, step=0.01, description=r'$\\pi$'),\n",
    "    interest=dict(value=0.01, min=0, max=0.1, step=0.01, description=r'$r$'),\n",
    "    depreciation=dict(value=0.01, min=0, max=0.1, step=0.01, description=r'$\\delta$'),\n",
    "    g_min=dict(value=0.8, min=0,  max=1,  step=0.1, description=r'$\\varrho_\\min$'),\n",
    "    g_max=dict(value=0.99, min=0,  max=1,  step=0.1, description=r'$\\varrho_\\max$'),\n",
    "    f_min=dict(value=1.0, min=0,  max=10,  step=1, description=r'$\\varphi_\\min$'),\n",
    "    f_max=dict(value=100, min=0,  max=1000,  step=10, description=r'$\\varphi_\\max$'),\n",
    "    n_cons=dict(value=1, min=0,  max=10,  step=0.1, description=r'$\\theta_c$'),\n",
    "    n_theta=dict(value=1, min=0,  max=10,  step=0.1, description=r'$\\theta_\\nu$'),\n",
    "    n_persistence=dict(value=0.8, min=0,  max=1,  step=0.05, description=r'$\\rho_\\nu$'),\n",
    "    gamma=dict(value=1.0, min=0, max=10,  step=1.0, description=r'$\\gamma$'),\n",
    "    alpha=dict(value=0.5, min=0, max=1,  step=0.1, description=r'$\\alpha$'),\n",
    "    shock=dict(value=0.0, min=-1, max=1,  step=1.0, description=r'Shock'),\n",
    ")\n",
    "\n",
    "start = dict(z=1, c=100, n=100, b=100, w=1, k=100, q=0.1, gt=0.8, ft=.5, income=0, news=1, xiz=0, xin=0)\n",
    "start = np.array([v for _,v in start.items()])\n",
    "\n",
    "T = 1e3\n",
    "np.random.seed(40)\n",
    "view = (1, int(1e3))\n",
    "\n",
    "widget_kwargs = dict(disabled=False, continuous_update=False, orientation='horizontal',\n",
    "                     readout=True, readout_format='.2f')\n",
    "    \n",
    "var_widgets = {k:widgets.FloatSlider(**p, **widget_kwargs) for k, p in param_limits.items()}\n",
    "\n",
    "out = widgets.interactive_output(sim_and_plot, var_widgets)\n",
    "temp = [v for _,v in var_widgets.items()]\n",
    "#widgets.VBox([widgets.HBox(temp), out])\n",
    "widgets.AppLayout(header=None,\n",
    "          left_sidebar=widgets.VBox(temp),\n",
    "          center=out,\n",
    "          right_sidebar=None,\n",
    "          footer=None,\n",
    "          grid_gap='10px',\n",
    "          justify_items='left',\n",
    "          align_items='center')"
   ]
  },
  {
   "cell_type": "code",
   "execution_count": null,
   "metadata": {},
   "outputs": [],
   "source": []
  }
 ],
 "metadata": {
  "kernelspec": {
   "display_name": "local-venv-kernel",
   "language": "python",
   "name": "local-venv-kernel"
  },
  "language_info": {
   "codemirror_mode": {
    "name": "ipython",
    "version": 3
   },
   "file_extension": ".py",
   "mimetype": "text/x-python",
   "name": "python",
   "nbconvert_exporter": "python",
   "pygments_lexer": "ipython3",
   "version": "3.9.1"
  }
 },
 "nbformat": 4,
 "nbformat_minor": 4
}
