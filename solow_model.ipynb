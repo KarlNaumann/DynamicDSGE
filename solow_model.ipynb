{
 "cells": [
  {
   "cell_type": "markdown",
   "metadata": {},
   "source": [
    "## DSGE w. Feedback - Numerical Simulations"
   ]
  },
  {
   "cell_type": "markdown",
   "metadata": {},
   "source": [
    "### Imports"
   ]
  },
  {
   "cell_type": "code",
   "execution_count": 89,
   "metadata": {
    "scrolled": true
   },
   "outputs": [
    {
     "name": "stdout",
     "output_type": "stream",
     "text": [
      "The autoreload extension is already loaded. To reload it, use:\n",
      "  %reload_ext autoreload\n",
      "Modules to reload:\n",
      "all-except-skipped\n",
      "\n",
      "Modules to skip:\n",
      "\n"
     ]
    }
   ],
   "source": [
    "%load_ext autoreload\n",
    "%autoreload 2\n",
    "%aimport\n",
    "%matplotlib notebook"
   ]
  },
  {
   "cell_type": "code",
   "execution_count": 90,
   "metadata": {},
   "outputs": [],
   "source": [
    "import numpy as np\n",
    "import pandas as pd\n",
    "import matplotlib.pyplot as plt\n",
    "import matplotlib as mpl"
   ]
  },
  {
   "cell_type": "code",
   "execution_count": 91,
   "metadata": {},
   "outputs": [],
   "source": [
    "import model"
   ]
  },
  {
   "cell_type": "markdown",
   "metadata": {},
   "source": [
    "## Simulation mechanics"
   ]
  },
  {
   "cell_type": "code",
   "execution_count": 92,
   "metadata": {},
   "outputs": [],
   "source": [
    "# CES\n",
    "def lhs_CES(cons: float, z: float, k:float, alpha: float, gamma: float, r: float, rho: float) -> float:\n",
    "        pt1 = 2 * gamma * (1+r) / ((z ** 2) * (1 - alpha) ** (2 / rho))\n",
    "        pt2 = cons ** 2\n",
    "        pt3 = (1 - alpha*(z * k / cons) ** rho) ** ((2 - rho) / rho)\n",
    "        return pt1 * pt2 * pt3\n",
    "\n",
    "def rhs_CES(cons: float, gti: float, ft: float) -> float:\n",
    "    return 1 - (ft * cons) / (gti - cons)\n",
    "    \n",
    "\n",
    "def bisection_CES(z:float, income:float, k:float, gt_:float, ft_:float, p:dict, err:float=1e-5)->float:\n",
    "    \n",
    "    # Define the left and right hand sides of the equations\n",
    "    diff = lambda c: rhs_CES(c, gt_ * income, ft_) - lhs_CES(c, z, k, p['alpha'], p['gamma'], p['interest'], p['rho'])\n",
    "\n",
    "    # Initial guess at the next options for \n",
    "    guess = np.min([gt_*income, k * z * (1 / p['alpha']) ** (-1 / p['rho'])])\n",
    "    x = [0, guess / 2, guess]\n",
    "    abs_lst = [abs(diff(i)) for i in x[:2]]\n",
    "    \n",
    "    # Apply bi-section method\n",
    "    while min(abs_lst) >= err:\n",
    "        test = np.sign([diff(i) for i in x])\n",
    "\n",
    "        if test[0] == test[1]:\n",
    "            x = [x[1], (x[1] + x[2]) / 2, x[2]]\n",
    "        elif test[1] == test[2]:\n",
    "            x = [x[0], (x[0] + x[1]) / 2, x[1]]\n",
    "\n",
    "        abs_lst = [abs(diff(i)) for i in x[:2]]\n",
    "\n",
    "    return x[np.argmin(abs_lst)]"
   ]
  },
  {
   "cell_type": "code",
   "execution_count": 108,
   "metadata": {},
   "outputs": [],
   "source": [
    "def step(t: float, x: np.ndarray, p: dict):\n",
    "    # Starting variables\n",
    "    z_, c_, n_, b_, w_, k_, q_, gt_, ft_, news_, inc_, xiz_, xin_ = x\n",
    "        \n",
    "    # Random technology process\n",
    "    rand = np.random.normal(0, p['sigmaZ'])\n",
    "    xiz = p['etaZ'] * xiz_ + np.sqrt(1 - p['etaZ'] ** 2) * rand\n",
    "    z = p['zbar'] * np.exp(xiz)\n",
    "        \n",
    "    # Income and Investment\n",
    "    income = (w_ * n_ + b_  + q_ * k_) / (1 + p['inflation'])\n",
    "    \n",
    "    # Capital Markets\n",
    "    k = (1 - p['depreciation']) * k_ + income * (1 - gt_)\n",
    "\n",
    "    # Household decision\n",
    "    c = bisection_CES(z, income, k, gt_, ft_, p)\n",
    "    temp = (c/z)**p['rho'] - p['alpha']*k**p['rho']\n",
    "    n = (temp / (1-p['alpha'])) ** (1 / p['rho'])\n",
    "    b = (gt_ * income - c) * (1 + p['interest'])\n",
    "    \n",
    "    # Firm decisions\n",
    "    temp = (p['alpha'] * k ** p['rho'] + (1 - p['alpha']) * n ** p['rho']) ** ((1 / p['rho']) - 1)\n",
    "    w = (1 - p['alpha']) * z * temp * (n ** (p['rho'] - 1))\n",
    "    q = p['alpha'] * z * temp * (k ** (p['rho'] - 1))\n",
    "\n",
    "    # News\n",
    "    xin = np.random.normal(0, p['sigmaN'])\n",
    "    info = p['n_cons']*(c/c_ - 1)\n",
    "    news = np.tanh(p['n_theta'] * (p['n_persistence'] * news_ + (1 - p['n_persistence']) * info + xin))\n",
    "    \n",
    "    if t > 300 and t < 400:\n",
    "        if p['shock'] == -1:\n",
    "            news = -1\n",
    "        elif p['shock'] == 1:\n",
    "            news = 1\n",
    "    \n",
    "    # Household modifiers\n",
    "    gt = 0.5 * (p['g_max'] + p['g_min'] - news * (p['g_max'] - p['g_min']))\n",
    "    ft = 0.5 * (p['f_max'] + p['f_min'] - news * (p['f_max'] - p['f_min']))\n",
    "    \n",
    "    return z, c, n, b, w, k, q, gt, ft, news, income, xiz, xin"
   ]
  },
  {
   "cell_type": "code",
   "execution_count": 94,
   "metadata": {},
   "outputs": [],
   "source": [
    "def simulate(start: np.ndarray, p: dict, t_end: float = 1e3):\n",
    "    x = np.empty((int(t_end), len(start)))\n",
    "    x[0, :] = start\n",
    "    for t in range(1, int(t_end)):\n",
    "        x[t, :] = step(t, x[t - 1, :], p)\n",
    "    cols = ['z', 'c', 'n', 'b', 'w', 'k', 'q', 'gt', 'ft', 'news', 'income', 'xiz', 'xin']\n",
    "    df = pd.DataFrame(x, columns=cols)\n",
    "    df.loc[:,'inv'] = 100*(1-df.loc[:,'gt'])\n",
    "    df.loc[:,'bc'] = df.b / df.c\n",
    "    return df"
   ]
  },
  {
   "cell_type": "markdown",
   "metadata": {},
   "source": [
    "----\n",
    "## Interactive Analysis"
   ]
  },
  {
   "cell_type": "code",
   "execution_count": null,
   "metadata": {
    "scrolled": false
   },
   "outputs": [
    {
     "name": "stderr",
     "output_type": "stream",
     "text": [
      "<ipython-input-92-d05550287b31>:5: RuntimeWarning: divide by zero encountered in double_scalars\n",
      "  pt3 = (1 - alpha*(z * k / cons) ** rho) ** ((2 - rho) / rho)\n",
      "<ipython-input-92-d05550287b31>:9: RuntimeWarning: divide by zero encountered in double_scalars\n",
      "  return 1 - (ft * cons) / (gti - cons)\n",
      "<ipython-input-108-30be44768bfb>:23: RuntimeWarning: overflow encountered in double_scalars\n",
      "  w = (1 - p['alpha']) * z * temp * (n ** (p['rho'] - 1))\n",
      "<ipython-input-92-d05550287b31>:9: RuntimeWarning: invalid value encountered in double_scalars\n",
      "  return 1 - (ft * cons) / (gti - cons)\n",
      "<ipython-input-92-d05550287b31>:5: RuntimeWarning: invalid value encountered in double_scalars\n",
      "  pt3 = (1 - alpha*(z * k / cons) ** rho) ** ((2 - rho) / rho)\n"
     ]
    }
   ],
   "source": [
    "params = {'etaZ': 0.2, 'sigmaZ': 0.8, 'zbar': 1.0, 'sigmaN': 0.2, \n",
    "          'inflation': 0.01, 'interest': 0.015, 'depreciation': 0.01, \n",
    "          'g_min': 0.6, 'g_max': 0.99, 'f_min': 1.0, 'f_max': 100, \n",
    "          'n_cons': .2, 'n_theta': 1, 'n_persistence': 0.8, \n",
    "          'gamma': 1.0, 'alpha': 0.33, 'rho': -1, 'shock': 1.0}\n",
    "\n",
    "start = dict(z=1, c=100, n=100, b=100, w=1, k=100, q=0.1, \n",
    "             gt=0.8, ft=.5, income=100, news=1, xiz=0, xin=0)\n",
    "start = np.array([v for _,v in start.items()])\n",
    "\n",
    "T = 1e3\n",
    "np.random.seed(40)\n",
    "view = (1, int(1e3))\n",
    "\n",
    "\n",
    "df = simulate(start, params, T)\n",
    "df = df.iloc[view[0]:view[1],:]\n",
    "\n",
    "graphs = {\n",
    "        'ln Consumption & Bonds' : [df.loc[:,['c','b']], True],\n",
    "        'Utility of Bonds' : [df.ft, False],\n",
    "        'ln Labour' : [df.n, True],\n",
    "        'ln Wages' : [df.w, True],\n",
    "        'ln Income' : [df.income, True],\n",
    "        'Investment %' : [df.inv, False],\n",
    "        'ln Capital' : [df.k, True],\n",
    "        'ln Returns' : [df.q, True],\n",
    "        'News' : [df.news, False],\n",
    "        'ln B/C Ratio' : [df.bc, True],\n",
    "    }\n",
    "\n",
    "\n",
    "axs = model.simulation_graph(graphs, size = (6, 10))\n",
    "axs['ln Returns'].axhline(params['interest'], color='red', linewidth=0.5)\n"
   ]
  },
  {
   "cell_type": "code",
   "execution_count": 38,
   "metadata": {},
   "outputs": [],
   "source": [
    "param_bounds = {\n",
    "    # Restrict noise params to be constant\n",
    "    'etaZ': (0.2,0.2), 'sigmaZ': (0.8,0.8), 'sigmaN': (0.2,0.2), \n",
    "    # Realistic monthly values - 0% to 5%\n",
    "    'inflation': (0.0,0.05), 'interest': (0.0,0.05), 'depreciation': (0.0,0.05),\n",
    "    # Saving and bond parameters\n",
    "    'g_min': (0.0,0.99), 'g_max': (0.0,0.99), 'f_min': (0.0,1e1), 'f_max': (1e1,1e3),\n",
    "    # News parameters\n",
    "    'n_cons': (0.1,10), 'n_theta': (0.1,10), 'n_persistence': (0.0,0.99),\n",
    "    # Production & Household\n",
    "    'zbar': (1.0,1.0), 'gamma': (1.0,10.0), 'alpha': (0.1,0.9), 'rho': (-1e4,-1e-1), \n",
    "    # No shocks for now\n",
    "    'shock': (0.0,0.0)}\n",
    "\n",
    "n = 5\n",
    "param_steps = {'etaZ': 0, 'sigmaZ': 0, 'sigmaN': 0, 'inflation': 0, 'interest': 0, 'depreciation': 0,\n",
    "    'g_min': n, 'g_max': n, 'f_min': n, 'f_max': n, 'n_cons': n, 'n_theta': n, 'n_persistence': n,\n",
    "    'zbar': 0, 'gamma': 0, 'alpha': n, 'rho': n, 'shock': 0}"
   ]
  },
  {
   "cell_type": "code",
   "execution_count": 24,
   "metadata": {},
   "outputs": [],
   "source": [
    "# Generate the whole set of parameters\n",
    "params = {'etaZ': 0.2, 'sigmaZ': 0.8, 'zbar': 1.0, 'sigmaN': 0.2, \n",
    "          'inflation': 0.01, 'interest': 0.01, 'depreciation': 0.01, \n",
    "          'g_min': 0.8, 'g_max': 0.99, 'f_min': 1.0, 'f_max': 100, \n",
    "          'n_cons': 1, 'n_theta': 1, 'n_persistence': 0.8, \n",
    "          'gamma': 1.0, 'alpha': 0.5, 'rho': -1, 'shock': 0.0}\n",
    "\n",
    "constants = [k for k,v in param_steps.items() if v==0]\n",
    "ranges = {k:np.linspace(*v, param_steps[k]) for k,v in param_bounds.items()}\n",
    "ranges = {k:v for k,v in ranges.items() if v.size!=0}"
   ]
  },
  {
   "cell_type": "code",
   "execution_count": 25,
   "metadata": {},
   "outputs": [],
   "source": [
    "results = pd.DataFrame(columns = list(ranges.keys()))"
   ]
  },
  {
   "cell_type": "code",
   "execution_count": 26,
   "metadata": {},
   "outputs": [],
   "source": [
    "from itertools import product\n",
    "\n",
    "var = list(ranges.keys())\n",
    "\n",
    "for tup in product(*list(ranges.values())):\n",
    "    # Generate unique parameter set\n",
    "    p = dict(params)\n",
    "    for combo in zip(var, tup):\n",
    "        p[combo[0]] = combo[1]\n",
    "    #df = simulate(start)\n"
   ]
  },
  {
   "cell_type": "code",
   "execution_count": 13,
   "metadata": {},
   "outputs": [],
   "source": [
    "def dead_economy(df, epsilon):\n",
    "    return df.c.iloc[-1] < epsilon"
   ]
  }
 ],
 "metadata": {
  "kernelspec": {
   "display_name": "local-venv-kernel",
   "language": "python",
   "name": "local-venv-kernel"
  },
  "language_info": {
   "codemirror_mode": {
    "name": "ipython",
    "version": 3
   },
   "file_extension": ".py",
   "mimetype": "text/x-python",
   "name": "python",
   "nbconvert_exporter": "python",
   "pygments_lexer": "ipython3",
   "version": "3.9.1"
  }
 },
 "nbformat": 4,
 "nbformat_minor": 4
}
